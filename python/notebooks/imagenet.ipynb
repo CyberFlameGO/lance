{
 "cells": [
  {
   "cell_type": "markdown",
   "id": "3e6fdcc6-01e1-4abc-9b6a-baa42bdc7aec",
   "metadata": {},
   "source": [
    "# Data-Driven ML development usingn Lance\n",
    "\n",
    "In this notebook we seek to show that:\n",
    "1. Lance makes it easy to improve model performance without needing a bunch of extra tools\n",
    "2. Lance can save you significant cost on labeling and storage\n",
    "3. Lance is customizable so you can tailor insights to your dataset and use case."
   ]
  },
  {
   "cell_type": "markdown",
   "id": "701a02c0",
   "metadata": {},
   "source": [
    "We'll walk through a simplified classification model example using the [ImageNet 1K dataset](https://www.image-net.org/index.php) dataset with some pre-trained models. <br/>\n",
    "\n",
    "First, a few basic setup"
   ]
  },
  {
   "cell_type": "code",
   "execution_count": 1,
   "id": "5a10997a-1786-4349-a290-61a10df983c5",
   "metadata": {},
   "outputs": [],
   "source": [
    "import lance\n",
    "import duckdb\n",
    "import torchvision\n",
    "import torch\n",
    "import pandas as pd\n",
    "import pyarrow as pa"
   ]
  },
  {
   "cell_type": "code",
   "execution_count": 2,
   "id": "fc4f6c53-4700-4a66-937c-c7181ce8fea3",
   "metadata": {},
   "outputs": [
    {
     "data": {
      "application/javascript": [
       "\n",
       "            debugger;\n",
       "            let codeCell = (window.Jupyter ?? window.IPython)?.CodeCell;\n",
       "            if (codeCell) {\n",
       "                let highlightModes = (codeCell.options_default ?? codeCell.config_defaults).highlight_modes;\n",
       "                if (!highlightModes['magic_sql'])\n",
       "                    highlightModes['magic_sql'] = {'reg': []};\n",
       "                highlightModes['magic_sql']['reg'].push(/^%%sql/);\n",
       "            }\n",
       "        "
      ]
     },
     "metadata": {},
     "output_type": "display_data"
    },
    {
     "name": "stdout",
     "output_type": "stream",
     "text": [
      "{'preload_extensions': ['lance'], 'config': {'allow_unsigned_extensions': True}}\n"
     ]
    }
   ],
   "source": [
    "%load_ext sql\n",
    "%sql duckdb:///:memory: --connection_arguments {\"preload_extensions\":[\"lance\"],\"config\":{\"allow_unsigned_extensions\":true}}"
   ]
  },
  {
   "cell_type": "code",
   "execution_count": 3,
   "id": "41a976c2",
   "metadata": {},
   "outputs": [],
   "source": [
    "# Set this to \"generate\" to download datasets again for a completely fresh start\n",
    "MODE = \"generate\""
   ]
  },
  {
   "cell_type": "code",
   "execution_count": 4,
   "id": "61359c01",
   "metadata": {},
   "outputs": [
    {
     "name": "stdout",
     "output_type": "stream",
     "text": [
      "  % Total    % Received % Xferd  Average Speed   Time    Time     Time  Current\n",
      "                                 Dload  Upload   Total   Spent    Left  Speed\n",
      "100 6529M  100 6529M    0     0  38.8M      0  0:02:48  0:02:48 --:--:-- 33.0M1:36  0:01:08 43.4M\n",
      "imagenet_1k.lance/\n",
      "imagenet_1k.lance/_versions/\n",
      "imagenet_1k.lance/_versions/1.manifest\n",
      "imagenet_1k.lance/data/\n",
      "imagenet_1k.lance/data/a5a0df03-9738-4cec-ae80-594ca2674df8_2.lance\n",
      "imagenet_1k.lance/data/a5a0df03-9738-4cec-ae80-594ca2674df8_5.lance\n",
      "imagenet_1k.lance/data/a5a0df03-9738-4cec-ae80-594ca2674df8_0.lance\n",
      "imagenet_1k.lance/data/a5a0df03-9738-4cec-ae80-594ca2674df8_3.lance\n",
      "imagenet_1k.lance/data/a5a0df03-9738-4cec-ae80-594ca2674df8_4.lance\n",
      "imagenet_1k.lance/data/a5a0df03-9738-4cec-ae80-594ca2674df8_1.lance\n",
      "imagenet_1k.lance/_latest.manifest\n"
     ]
    }
   ],
   "source": [
    "if MODE == \"generate\":\n",
    "    !rm -rf /tmp/imagenet.lance.tar.gz\n",
    "    !curl https://eto-public.s3.amazonaws.com/datasets/imagenet_1k/imagenet_1k.lance.tar.gz --output /tmp/imagenet.lance.tar.gz\n",
    "\n",
    "!rm -rf /tmp/imagenet*.lance\n",
    "!cd /tmp && tar -xvf imagenet.lance.tar.gz  # this is fairly large and takes roughly 1min to unzip"
   ]
  },
  {
   "cell_type": "markdown",
   "id": "a483e264",
   "metadata": {},
   "source": [
    "Data is stored on disk (local, s3, gcs, etc) and no database/infra is needed"
   ]
  },
  {
   "cell_type": "code",
   "execution_count": 5,
   "id": "269b8739-0396-4e61-8a1b-63b3570dee0f",
   "metadata": {},
   "outputs": [],
   "source": [
    "uri = \"/tmp/imagenet_1k.lance\"\n",
    "ds = lance.dataset(uri)"
   ]
  },
  {
   "cell_type": "markdown",
   "id": "21be30e4",
   "metadata": {},
   "source": [
    "We'll need the class map"
   ]
  },
  {
   "cell_type": "code",
   "execution_count": 7,
   "id": "93b041bb",
   "metadata": {},
   "outputs": [],
   "source": [
    "from imagenet_classes import IMAGENET2012_CLASSES\n",
    "\n",
    "imagenet_classes = (pd.Series(IMAGENET2012_CLASSES)\n",
    "                    .reset_index(name='name')\n",
    "                    .drop(columns=\"index\")\n",
    "                    .reset_index()\n",
    "                    .rename(columns={'index': 'label'}))"
   ]
  },
  {
   "cell_type": "code",
   "execution_count": 8,
   "id": "9bbb791d",
   "metadata": {},
   "outputs": [],
   "source": [
    "ds = ds.merge(pa.Table.from_pandas(imagenet_classes), left_on=\"class\", right_on=\"name\")"
   ]
  },
  {
   "cell_type": "markdown",
   "id": "1d584f94",
   "metadata": {},
   "source": [
    "## Basic EDA with Lance\n",
    "\n",
    "Lance supports a wide range of computational libraries and engines.<br/>\n",
    "This makes it easy to do basic data exploration using say DuckDB or pandas."
   ]
  },
  {
   "cell_type": "code",
   "execution_count": 9,
   "id": "7a290010",
   "metadata": {
    "scrolled": false
   },
   "outputs": [
    {
     "name": "stdout",
     "output_type": "stream",
     "text": [
      "Took 0.034531354904174805\n"
     ]
    },
    {
     "data": {
      "text/html": [
       "<div>\n",
       "<style scoped>\n",
       "    .dataframe tbody tr th:only-of-type {\n",
       "        vertical-align: middle;\n",
       "    }\n",
       "\n",
       "    .dataframe tbody tr th {\n",
       "        vertical-align: top;\n",
       "    }\n",
       "\n",
       "    .dataframe thead th {\n",
       "        text-align: right;\n",
       "    }\n",
       "</style>\n",
       "<table border=\"1\" class=\"dataframe\">\n",
       "  <thead>\n",
       "    <tr style=\"text-align: right;\">\n",
       "      <th></th>\n",
       "      <th>image_id</th>\n",
       "      <th>image_uri</th>\n",
       "      <th>class</th>\n",
       "      <th>label</th>\n",
       "      <th>split</th>\n",
       "    </tr>\n",
       "  </thead>\n",
       "  <tbody>\n",
       "    <tr>\n",
       "      <th>0</th>\n",
       "      <td>n02708093_5803</td>\n",
       "      <td>https://eto-public.s3.amazonaws.com/datasets/i...</td>\n",
       "      <td>analog clock</td>\n",
       "      <td>409</td>\n",
       "      <td>train</td>\n",
       "    </tr>\n",
       "    <tr>\n",
       "      <th>1</th>\n",
       "      <td>n02123597_13027</td>\n",
       "      <td>https://eto-public.s3.amazonaws.com/datasets/i...</td>\n",
       "      <td>Siamese cat</td>\n",
       "      <td>0</td>\n",
       "      <td>train</td>\n",
       "    </tr>\n",
       "    <tr>\n",
       "      <th>2</th>\n",
       "      <td>n04476259_13040</td>\n",
       "      <td>https://eto-public.s3.amazonaws.com/datasets/i...</td>\n",
       "      <td>tray</td>\n",
       "      <td>868</td>\n",
       "      <td>train</td>\n",
       "    </tr>\n",
       "    <tr>\n",
       "      <th>3</th>\n",
       "      <td>n03384352_16599</td>\n",
       "      <td>https://eto-public.s3.amazonaws.com/datasets/i...</td>\n",
       "      <td>forklift</td>\n",
       "      <td>561</td>\n",
       "      <td>train</td>\n",
       "    </tr>\n",
       "    <tr>\n",
       "      <th>4</th>\n",
       "      <td>n03124170_7819</td>\n",
       "      <td>https://eto-public.s3.amazonaws.com/datasets/i...</td>\n",
       "      <td>cowboy hat</td>\n",
       "      <td>0</td>\n",
       "      <td>train</td>\n",
       "    </tr>\n",
       "    <tr>\n",
       "      <th>5</th>\n",
       "      <td>n02114367_8566</td>\n",
       "      <td>https://eto-public.s3.amazonaws.com/datasets/i...</td>\n",
       "      <td>timber wolf</td>\n",
       "      <td>0</td>\n",
       "      <td>train</td>\n",
       "    </tr>\n",
       "    <tr>\n",
       "      <th>6</th>\n",
       "      <td>n02607072_5458</td>\n",
       "      <td>https://eto-public.s3.amazonaws.com/datasets/i...</td>\n",
       "      <td>anemone fish</td>\n",
       "      <td>393</td>\n",
       "      <td>train</td>\n",
       "    </tr>\n",
       "    <tr>\n",
       "      <th>7</th>\n",
       "      <td>n03126707_24249</td>\n",
       "      <td>https://eto-public.s3.amazonaws.com/datasets/i...</td>\n",
       "      <td>crane bird</td>\n",
       "      <td>0</td>\n",
       "      <td>train</td>\n",
       "    </tr>\n",
       "    <tr>\n",
       "      <th>8</th>\n",
       "      <td>ILSVRC2012_val_00004068</td>\n",
       "      <td>https://eto-public.s3.amazonaws.com/datasets/i...</td>\n",
       "      <td>hatchet</td>\n",
       "      <td>596</td>\n",
       "      <td>val</td>\n",
       "    </tr>\n",
       "  </tbody>\n",
       "</table>\n",
       "</div>"
      ],
      "text/plain": [
       "                  image_id                                          image_uri  \\\n",
       "0           n02708093_5803  https://eto-public.s3.amazonaws.com/datasets/i...   \n",
       "1          n02123597_13027  https://eto-public.s3.amazonaws.com/datasets/i...   \n",
       "2          n04476259_13040  https://eto-public.s3.amazonaws.com/datasets/i...   \n",
       "3          n03384352_16599  https://eto-public.s3.amazonaws.com/datasets/i...   \n",
       "4           n03124170_7819  https://eto-public.s3.amazonaws.com/datasets/i...   \n",
       "5           n02114367_8566  https://eto-public.s3.amazonaws.com/datasets/i...   \n",
       "6           n02607072_5458  https://eto-public.s3.amazonaws.com/datasets/i...   \n",
       "7          n03126707_24249  https://eto-public.s3.amazonaws.com/datasets/i...   \n",
       "8  ILSVRC2012_val_00004068  https://eto-public.s3.amazonaws.com/datasets/i...   \n",
       "\n",
       "          class  label  split  \n",
       "0  analog clock    409  train  \n",
       "1   Siamese cat      0  train  \n",
       "2          tray    868  train  \n",
       "3      forklift    561  train  \n",
       "4    cowboy hat      0  train  \n",
       "5   timber wolf      0  train  \n",
       "6  anemone fish    393  train  \n",
       "7    crane bird      0  train  \n",
       "8       hatchet    596    val  "
      ]
     },
     "execution_count": 9,
     "metadata": {},
     "output_type": "execute_result"
    }
   ],
   "source": [
    "%%sql\n",
    "\n",
    "SELECT image_id, image_uri, class, label, split\n",
    "FROM ds\n",
    "WHERE class <> ''\n",
    "USING SAMPLE 10"
   ]
  },
  {
   "cell_type": "markdown",
   "id": "43702dc8",
   "metadata": {},
   "source": [
    "### Simple summary statistics\n",
    "\n",
    "You can load Lance datasets into pandas"
   ]
  },
  {
   "cell_type": "code",
   "execution_count": 10,
   "id": "9f82b63c-3d48-43e0-92cd-bca457184770",
   "metadata": {},
   "outputs": [
    {
     "data": {
      "text/plain": [
       "train    47041\n",
       "test      8638\n",
       "val       4002\n",
       "Name: split, dtype: int64"
      ]
     },
     "execution_count": 10,
     "metadata": {},
     "output_type": "execute_result"
    }
   ],
   "source": [
    "(ds.scanner(columns=[\"split\"])\n",
    " .to_table().to_pandas()\n",
    " .split.value_counts())"
   ]
  },
  {
   "cell_type": "markdown",
   "id": "0417af46",
   "metadata": {},
   "source": [
    "### Check label distribution\n",
    "\n",
    "Note the you can also work with Lance datasets using SQL"
   ]
  },
  {
   "cell_type": "code",
   "execution_count": 11,
   "id": "d76eb86f",
   "metadata": {},
   "outputs": [
    {
     "name": "stdout",
     "output_type": "stream",
     "text": [
      "Took 0.013085603713989258\n"
     ]
    },
    {
     "data": {
      "text/html": [
       "<div>\n",
       "<style scoped>\n",
       "    .dataframe tbody tr th:only-of-type {\n",
       "        vertical-align: middle;\n",
       "    }\n",
       "\n",
       "    .dataframe tbody tr th {\n",
       "        vertical-align: top;\n",
       "    }\n",
       "\n",
       "    .dataframe thead th {\n",
       "        text-align: right;\n",
       "    }\n",
       "</style>\n",
       "<table border=\"1\" class=\"dataframe\">\n",
       "  <thead>\n",
       "    <tr style=\"text-align: right;\">\n",
       "      <th></th>\n",
       "      <th>class</th>\n",
       "      <th>count</th>\n",
       "    </tr>\n",
       "  </thead>\n",
       "  <tbody>\n",
       "    <tr>\n",
       "      <th>0</th>\n",
       "      <td>boxer</td>\n",
       "      <td>116</td>\n",
       "    </tr>\n",
       "    <tr>\n",
       "      <th>1</th>\n",
       "      <td>crane bird</td>\n",
       "      <td>116</td>\n",
       "    </tr>\n",
       "    <tr>\n",
       "      <th>2</th>\n",
       "      <td>seashore</td>\n",
       "      <td>114</td>\n",
       "    </tr>\n",
       "    <tr>\n",
       "      <th>3</th>\n",
       "      <td>standard poodle</td>\n",
       "      <td>112</td>\n",
       "    </tr>\n",
       "    <tr>\n",
       "      <th>4</th>\n",
       "      <td>stove</td>\n",
       "      <td>108</td>\n",
       "    </tr>\n",
       "    <tr>\n",
       "      <th>5</th>\n",
       "      <td>trailer truck</td>\n",
       "      <td>107</td>\n",
       "    </tr>\n",
       "    <tr>\n",
       "      <th>6</th>\n",
       "      <td>Border collie</td>\n",
       "      <td>107</td>\n",
       "    </tr>\n",
       "    <tr>\n",
       "      <th>7</th>\n",
       "      <td>Doberman</td>\n",
       "      <td>104</td>\n",
       "    </tr>\n",
       "    <tr>\n",
       "      <th>8</th>\n",
       "      <td>golden retriever</td>\n",
       "      <td>96</td>\n",
       "    </tr>\n",
       "    <tr>\n",
       "      <th>9</th>\n",
       "      <td>maillot</td>\n",
       "      <td>95</td>\n",
       "    </tr>\n",
       "  </tbody>\n",
       "</table>\n",
       "</div>"
      ],
      "text/plain": [
       "              class  count\n",
       "0             boxer    116\n",
       "1        crane bird    116\n",
       "2          seashore    114\n",
       "3   standard poodle    112\n",
       "4             stove    108\n",
       "5     trailer truck    107\n",
       "6     Border collie    107\n",
       "7          Doberman    104\n",
       "8  golden retriever     96\n",
       "9           maillot     95"
      ]
     },
     "execution_count": 11,
     "metadata": {},
     "output_type": "execute_result"
    }
   ],
   "source": [
    "%%sql label_counts <<\n",
    "\n",
    "SELECT class, count(class) as count\n",
    "FROM ds\n",
    "WHERE split <> 'test'\n",
    "GROUP BY 1\n",
    "ORDER BY 2 DESC\n",
    "LIMIT 10"
   ]
  },
  {
   "cell_type": "code",
   "execution_count": 12,
   "id": "f17b2ac7",
   "metadata": {},
   "outputs": [
    {
     "data": {
      "text/plain": [
       "<AxesSubplot: xlabel='class'>"
      ]
     },
     "execution_count": 12,
     "metadata": {},
     "output_type": "execute_result"
    },
    {
     "data": {
      "image/png": "[encoded data removed]",
      "text/plain": [
       "<Figure size 640x480 with 1 Axes>"
      ]
     },
     "metadata": {},
     "output_type": "display_data"
    }
   ],
   "source": [
    "label_counts.set_index('class').plot.bar()"
   ]
  },
  {
   "cell_type": "markdown",
   "id": "88265369-1d77-49bf-8af1-9cd9d8760201",
   "metadata": {},
   "source": [
    "## Evaluating Model performance"
   ]
  },
  {
   "cell_type": "markdown",
   "id": "fbb58979",
   "metadata": {},
   "source": [
    "### Inference\n",
    "\n",
    "We load two pretrained classic CNN and Transformer models to help us understand the dataset better.\n",
    "\n",
    "* The ResNet model is based on the [Deep Residual Learning for Image Recognition paper](https://arxiv.org/abs/1512.03385)\n",
    "* The VisionTransformer model is based on the [An Image is Worth 16x16 Words: Transformers for Image Recognition at Scale paper](https://arxiv.org/abs/2010.11929).\n",
    "\n",
    "Models are moved to the accelerators if available. \n",
    "Not only we support CUDA as backend, we support [MPS backend on macOS](https://pytorch.org/docs/stable/notes/mps.html) as well."
   ]
  },
  {
   "cell_type": "code",
   "execution_count": 13,
   "id": "1e4c6619-0505-4e4a-8f57-59cf6740ebdc",
   "metadata": {},
   "outputs": [],
   "source": [
    "from torchvision.models import resnet50, vit_b_16\n",
    "import torch\n",
    "\n",
    "# Support CUDA (Linux) or MPS (Mac) backends.\n",
    "device = torch.device(\n",
    "    \"cuda\" if torch.cuda.is_available() else (\n",
    "        \"mps\" if torch.backends.mps.is_available() else \"cpu\")\n",
    ")\n",
    "\n",
    "resnet = resnet50(weights=\"DEFAULT\").to(device)\n",
    "vit = vit_b_16(weights=\"DEFAULT\").to(device)"
   ]
  },
  {
   "cell_type": "markdown",
   "id": "537e701a-337b-4f56-af4d-cea0a9f58411",
   "metadata": {},
   "source": [
    "Lance provides native [PyTorch Dataset](https://eto-ai.github.io/lance/api/python/lance.pytorch.html#lance.pytorch.data.Dataset),\n",
    "which works with PyTorch DataLoader.\n",
    "\n",
    "We can write a plain PyTorch evaluation loop and persist the predictions back to the dataset for future analysis.\n",
    "\n"
   ]
  },
  {
   "cell_type": "code",
   "execution_count": 14,
   "id": "8f10acce-0334-4468-9835-29fdb1e2a317",
   "metadata": {},
   "outputs": [],
   "source": [
    "from lance.pytorch import Dataset\n",
    "\n",
    "def run_inference(uri: str, model, transform, col_name: str) -> pa.Table:\n",
    "    dataset = Dataset(\n",
    "        uri, \n",
    "        columns=[\"image_id\", \"image\"],\n",
    "        mode=\"batch\",\n",
    "        batch_size=128\n",
    "    )\n",
    "    results = []\n",
    "    with torch.no_grad():\n",
    "        model.eval()\n",
    "        for batch in dataset:\n",
    "            imgs = [transform(img).to(device) for img in batch[1]]\n",
    "            prediction = resnet(torch.stack(imgs)).squeeze(0).softmax(0)\n",
    "            topk = torch.topk(prediction, 2)\n",
    "            for pk, scores, indices in zip(\n",
    "                batch[0], topk.values.tolist(), topk.indices.tolist()\n",
    "            ):\n",
    "                results.append({\n",
    "                    \"image_id\": pk.item(),\n",
    "                    col_name: {\n",
    "                        \"label\": indices[0], \n",
    "                        \"score\": scores[0], \n",
    "                        \"second_label\": indices[1],  # Secondary guess\n",
    "                        \"second_score\": scores[1],  # Confidence of the secondary guess.\n",
    "                    }\n",
    "                })\n",
    "    df = pd.DataFrame(data=results)\n",
    "    return pa.Table.from_pandas(df)"
   ]
  },
  {
   "cell_type": "code",
   "execution_count": 16,
   "id": "9747f8b6",
   "metadata": {},
   "outputs": [],
   "source": [
    "if MODE == 'generate':\n",
    "    resnet_table = run_inference(\n",
    "        uri, resnet, torchvision.models.ResNet50_Weights.DEFAULT.transforms(), \"resnet\"\n",
    "    )\n",
    "    vit_table = run_inference(\n",
    "        uri, vit, torchvision.models.ViT_L_16_Weights.DEFAULT.transforms(), \"vit\"\n",
    "    )\n",
    "    !rm -rf /tmp/resnet_table.lance\n",
    "    !rm -rf /tmp/vit_table.lance\n",
    "    lance.write_dataset(resnet_table, \"/tmp/resnet_table.lance\")\n",
    "    lance.write_dataset(vit_table, \"/tmp/vit_table.lance\")\n",
    "else:\n",
    "    resnet_table = lance.dataset(\"/tmp/resnet_table.lance\").to_table()\n",
    "    vit_table = lance.dataset(\"/tmp/vit_table.lance\").to_table()"
   ]
  },
  {
   "cell_type": "markdown",
   "id": "3b5f0a06-63bf-48f1-a4cb-c9f2af9ca249",
   "metadata": {},
   "source": [
    "### Add inference results to dataset without copying\n",
    "\n",
    "Because Lance supports [Schema Evolution](https://en.wikipedia.org/wiki/Schema_evolution), \n",
    "it is quite easy to add new columns from the model inference back to the dataset."
   ]
  },
  {
   "cell_type": "code",
   "execution_count": 17,
   "id": "8f2ab4a2",
   "metadata": {},
   "outputs": [],
   "source": [
    "ds = ds.merge(resnet_table, left_on=\"image_id\", right_on=\"image_id\")\n",
    "ds = ds.merge(vit_table, left_on=\"image_id\", right_on=\"image_id\")"
   ]
  },
  {
   "cell_type": "code",
   "execution_count": 18,
   "id": "88b5bfaa",
   "metadata": {},
   "outputs": [
    {
     "data": {
      "text/plain": [
       "[{'version': 1,\n",
       "  'timestamp': datetime.datetime(2022, 12, 21, 20, 9, 43, tzinfo=datetime.timezone.utc),\n",
       "  'metadata': {}},\n",
       " {'version': 2,\n",
       "  'timestamp': datetime.datetime(2022, 12, 21, 20, 22, 5, tzinfo=datetime.timezone.utc),\n",
       "  'metadata': {}},\n",
       " {'version': 3,\n",
       "  'timestamp': datetime.datetime(2022, 12, 21, 20, 22, 47, tzinfo=datetime.timezone.utc),\n",
       "  'metadata': {}},\n",
       " {'version': 4,\n",
       "  'timestamp': datetime.datetime(2022, 12, 21, 20, 22, 47, tzinfo=datetime.timezone.utc),\n",
       "  'metadata': {}}]"
      ]
     },
     "execution_count": 18,
     "metadata": {},
     "output_type": "execute_result"
    }
   ],
   "source": [
    "ds.versions()"
   ]
  },
  {
   "cell_type": "code",
   "execution_count": 19,
   "id": "33626633-2817-4574-b688-96b93acfb25f",
   "metadata": {},
   "outputs": [
    {
     "data": {
      "text/plain": [
       "label: int64"
      ]
     },
     "execution_count": 19,
     "metadata": {},
     "output_type": "execute_result"
    }
   ],
   "source": [
    "lance.diff(ds, 1, 2).columns_added().schema"
   ]
  },
  {
   "cell_type": "code",
   "execution_count": 20,
   "id": "39eef933",
   "metadata": {},
   "outputs": [
    {
     "data": {
      "text/plain": [
       "resnet.label: int64\n",
       "resnet.score: double\n",
       "resnet.second_label: int64\n",
       "resnet.second_score: double"
      ]
     },
     "execution_count": 20,
     "metadata": {},
     "output_type": "execute_result"
    }
   ],
   "source": [
    "lance.diff(ds, 2, 3).columns_added().schema"
   ]
  },
  {
   "cell_type": "code",
   "execution_count": 21,
   "id": "c5417e12",
   "metadata": {},
   "outputs": [
    {
     "data": {
      "text/plain": [
       "vit.label: int64\n",
       "vit.score: double\n",
       "vit.second_label: int64\n",
       "vit.second_score: double"
      ]
     },
     "execution_count": 21,
     "metadata": {},
     "output_type": "execute_result"
    }
   ],
   "source": [
    "lance.diff(ds, 3, 4).columns_added().schema"
   ]
  },
  {
   "cell_type": "code",
   "execution_count": 22,
   "id": "fe435975",
   "metadata": {
    "scrolled": true
   },
   "outputs": [
    {
     "data": {
      "text/html": [
       "<div>\n",
       "<style scoped>\n",
       "    .dataframe tbody tr th:only-of-type {\n",
       "        vertical-align: middle;\n",
       "    }\n",
       "\n",
       "    .dataframe tbody tr th {\n",
       "        vertical-align: top;\n",
       "    }\n",
       "\n",
       "    .dataframe thead th {\n",
       "        text-align: right;\n",
       "    }\n",
       "</style>\n",
       "<table border=\"1\" class=\"dataframe\">\n",
       "  <thead>\n",
       "    <tr style=\"text-align: right;\">\n",
       "      <th></th>\n",
       "      <th>label</th>\n",
       "      <th>resnet</th>\n",
       "      <th>vit</th>\n",
       "    </tr>\n",
       "  </thead>\n",
       "  <tbody>\n",
       "    <tr>\n",
       "      <th>0</th>\n",
       "      <td>282</td>\n",
       "      <td>{'label': 0, 'score': 0.0, 'second_label': 0, ...</td>\n",
       "      <td>{'label': 0, 'score': 0.0, 'second_label': 0, ...</td>\n",
       "    </tr>\n",
       "    <tr>\n",
       "      <th>1</th>\n",
       "      <td>282</td>\n",
       "      <td>{'label': 0, 'score': 0.0, 'second_label': 0, ...</td>\n",
       "      <td>{'label': 0, 'score': 0.0, 'second_label': 0, ...</td>\n",
       "    </tr>\n",
       "    <tr>\n",
       "      <th>2</th>\n",
       "      <td>282</td>\n",
       "      <td>{'label': 0, 'score': 0.0, 'second_label': 0, ...</td>\n",
       "      <td>{'label': 0, 'score': 0.0, 'second_label': 0, ...</td>\n",
       "    </tr>\n",
       "    <tr>\n",
       "      <th>3</th>\n",
       "      <td>282</td>\n",
       "      <td>{'label': 0, 'score': 0.0, 'second_label': 0, ...</td>\n",
       "      <td>{'label': 0, 'score': 0.0, 'second_label': 0, ...</td>\n",
       "    </tr>\n",
       "    <tr>\n",
       "      <th>4</th>\n",
       "      <td>282</td>\n",
       "      <td>{'label': 0, 'score': 0.0, 'second_label': 0, ...</td>\n",
       "      <td>{'label': 0, 'score': 0.0, 'second_label': 0, ...</td>\n",
       "    </tr>\n",
       "    <tr>\n",
       "      <th>5</th>\n",
       "      <td>282</td>\n",
       "      <td>{'label': 0, 'score': 0.0, 'second_label': 0, ...</td>\n",
       "      <td>{'label': 0, 'score': 0.0, 'second_label': 0, ...</td>\n",
       "    </tr>\n",
       "    <tr>\n",
       "      <th>6</th>\n",
       "      <td>282</td>\n",
       "      <td>{'label': 0, 'score': 0.0, 'second_label': 0, ...</td>\n",
       "      <td>{'label': 0, 'score': 0.0, 'second_label': 0, ...</td>\n",
       "    </tr>\n",
       "    <tr>\n",
       "      <th>7</th>\n",
       "      <td>282</td>\n",
       "      <td>{'label': 0, 'score': 0.0, 'second_label': 0, ...</td>\n",
       "      <td>{'label': 0, 'score': 0.0, 'second_label': 0, ...</td>\n",
       "    </tr>\n",
       "    <tr>\n",
       "      <th>8</th>\n",
       "      <td>282</td>\n",
       "      <td>{'label': 0, 'score': 0.0, 'second_label': 0, ...</td>\n",
       "      <td>{'label': 0, 'score': 0.0, 'second_label': 0, ...</td>\n",
       "    </tr>\n",
       "    <tr>\n",
       "      <th>9</th>\n",
       "      <td>282</td>\n",
       "      <td>{'label': 0, 'score': 0.0, 'second_label': 0, ...</td>\n",
       "      <td>{'label': 0, 'score': 0.0, 'second_label': 0, ...</td>\n",
       "    </tr>\n",
       "  </tbody>\n",
       "</table>\n",
       "</div>"
      ],
      "text/plain": [
       "   label                                             resnet  \\\n",
       "0    282  {'label': 0, 'score': 0.0, 'second_label': 0, ...   \n",
       "1    282  {'label': 0, 'score': 0.0, 'second_label': 0, ...   \n",
       "2    282  {'label': 0, 'score': 0.0, 'second_label': 0, ...   \n",
       "3    282  {'label': 0, 'score': 0.0, 'second_label': 0, ...   \n",
       "4    282  {'label': 0, 'score': 0.0, 'second_label': 0, ...   \n",
       "5    282  {'label': 0, 'score': 0.0, 'second_label': 0, ...   \n",
       "6    282  {'label': 0, 'score': 0.0, 'second_label': 0, ...   \n",
       "7    282  {'label': 0, 'score': 0.0, 'second_label': 0, ...   \n",
       "8    282  {'label': 0, 'score': 0.0, 'second_label': 0, ...   \n",
       "9    282  {'label': 0, 'score': 0.0, 'second_label': 0, ...   \n",
       "\n",
       "                                                 vit  \n",
       "0  {'label': 0, 'score': 0.0, 'second_label': 0, ...  \n",
       "1  {'label': 0, 'score': 0.0, 'second_label': 0, ...  \n",
       "2  {'label': 0, 'score': 0.0, 'second_label': 0, ...  \n",
       "3  {'label': 0, 'score': 0.0, 'second_label': 0, ...  \n",
       "4  {'label': 0, 'score': 0.0, 'second_label': 0, ...  \n",
       "5  {'label': 0, 'score': 0.0, 'second_label': 0, ...  \n",
       "6  {'label': 0, 'score': 0.0, 'second_label': 0, ...  \n",
       "7  {'label': 0, 'score': 0.0, 'second_label': 0, ...  \n",
       "8  {'label': 0, 'score': 0.0, 'second_label': 0, ...  \n",
       "9  {'label': 0, 'score': 0.0, 'second_label': 0, ...  "
      ]
     },
     "execution_count": 22,
     "metadata": {},
     "output_type": "execute_result"
    }
   ],
   "source": [
    "diff = lance.diff(ds, 1, 4).columns_added()\n",
    "diff.head().to_pandas()"
   ]
  },
  {
   "cell_type": "markdown",
   "id": "5a570630",
   "metadata": {},
   "source": [
    "<div class=\"alert alert-block alert-info\"> \n",
    "    💡 This versioning happens without manually work or redundant copying   \n",
    "</div>"
   ]
  },
  {
   "cell_type": "markdown",
   "id": "3db710fb-5099-4c99-a491-8d08db775d56",
   "metadata": {},
   "source": [
    "## ML metrics\n",
    "\n",
    "Using SQL it's easy and fast to integrate Lance with BI tooling or visualization libraries to compute and visualize ML metrics"
   ]
  },
  {
   "cell_type": "markdown",
   "id": "362f463e",
   "metadata": {},
   "source": [
    "For example, it would be simple to generate SQL to compute model precision"
   ]
  },
  {
   "cell_type": "code",
   "execution_count": 23,
   "id": "cdb32c1a-a7cb-4f74-b99e-e5b6e5c263b8",
   "metadata": {},
   "outputs": [
    {
     "name": "stdout",
     "output_type": "stream",
     "text": [
      "Took 0.018708467483520508\n"
     ]
    },
    {
     "data": {
      "text/html": [
       "<div>\n",
       "<style scoped>\n",
       "    .dataframe tbody tr th:only-of-type {\n",
       "        vertical-align: middle;\n",
       "    }\n",
       "\n",
       "    .dataframe tbody tr th {\n",
       "        vertical-align: top;\n",
       "    }\n",
       "\n",
       "    .dataframe thead th {\n",
       "        text-align: right;\n",
       "    }\n",
       "</style>\n",
       "<table border=\"1\" class=\"dataframe\">\n",
       "  <thead>\n",
       "    <tr style=\"text-align: right;\">\n",
       "      <th></th>\n",
       "      <th>resnet</th>\n",
       "      <th>vit</th>\n",
       "    </tr>\n",
       "  </thead>\n",
       "  <tbody>\n",
       "    <tr>\n",
       "      <th>0</th>\n",
       "      <td>0.47901</td>\n",
       "      <td>0.48026</td>\n",
       "    </tr>\n",
       "  </tbody>\n",
       "</table>\n",
       "</div>"
      ],
      "text/plain": [
       "    resnet      vit\n",
       "0  0.47901  0.48026"
      ]
     },
     "execution_count": 23,
     "metadata": {},
     "output_type": "execute_result"
    }
   ],
   "source": [
    "%%sql precision <<\n",
    "\n",
    "SELECT \n",
    "  SUM(CAST(resnet.label = ds.label AS FLOAT)) / COUNT(ds.label) as resnet,\n",
    "  SUM(CAST(vit.label = ds.label AS FLOAT)) / COUNT(ds.label) as vit\n",
    "FROM ds\n",
    "WHERE split = 'val'"
   ]
  },
  {
   "cell_type": "code",
   "execution_count": 24,
   "id": "db7d597c",
   "metadata": {},
   "outputs": [
    {
     "data": {
      "text/plain": [
       "<AxesSubplot: >"
      ]
     },
     "execution_count": 24,
     "metadata": {},
     "output_type": "execute_result"
    },
    {
     "data": {
      "image/png": "[encoded data removed]",
      "text/plain": [
       "<Figure size 640x480 with 1 Axes>"
      ]
     },
     "metadata": {},
     "output_type": "display_data"
    }
   ],
   "source": [
    "precision.T.rename(columns={0: 'precision'}).squeeze().plot.bar()"
   ]
  },
  {
   "cell_type": "markdown",
   "id": "5f2708e8-c65a-4335-94c3-cf01f4700451",
   "metadata": {},
   "source": [
    "### Digging into arbitrary slices\n",
    "\n",
    "With Lance, it is trivial to slice into each label class to detailed model performance in each class."
   ]
  },
  {
   "cell_type": "code",
   "execution_count": 25,
   "id": "71a1171c-1916-4ffa-b03e-e1f411fd8a72",
   "metadata": {},
   "outputs": [
    {
     "name": "stdout",
     "output_type": "stream",
     "text": [
      "Took 0.0226438045501709\n"
     ]
    },
    {
     "data": {
      "text/html": [
       "<div>\n",
       "<style scoped>\n",
       "    .dataframe tbody tr th:only-of-type {\n",
       "        vertical-align: middle;\n",
       "    }\n",
       "\n",
       "    .dataframe tbody tr th {\n",
       "        vertical-align: top;\n",
       "    }\n",
       "\n",
       "    .dataframe thead th {\n",
       "        text-align: right;\n",
       "    }\n",
       "</style>\n",
       "<table border=\"1\" class=\"dataframe\">\n",
       "  <thead>\n",
       "    <tr style=\"text-align: right;\">\n",
       "      <th></th>\n",
       "      <th>class</th>\n",
       "      <th>resnet</th>\n",
       "      <th>vit</th>\n",
       "    </tr>\n",
       "  </thead>\n",
       "  <tbody>\n",
       "    <tr>\n",
       "      <th>0</th>\n",
       "      <td>Appenzeller</td>\n",
       "      <td>0.0</td>\n",
       "      <td>0.0</td>\n",
       "    </tr>\n",
       "    <tr>\n",
       "      <th>1</th>\n",
       "      <td>Band Aid</td>\n",
       "      <td>0.0</td>\n",
       "      <td>0.0</td>\n",
       "    </tr>\n",
       "    <tr>\n",
       "      <th>2</th>\n",
       "      <td>Bedlington terrier</td>\n",
       "      <td>0.0</td>\n",
       "      <td>0.0</td>\n",
       "    </tr>\n",
       "    <tr>\n",
       "      <th>3</th>\n",
       "      <td>Border collie</td>\n",
       "      <td>0.0</td>\n",
       "      <td>0.0</td>\n",
       "    </tr>\n",
       "    <tr>\n",
       "      <th>4</th>\n",
       "      <td>Brabancon griffon</td>\n",
       "      <td>0.0</td>\n",
       "      <td>0.0</td>\n",
       "    </tr>\n",
       "    <tr>\n",
       "      <th>...</th>\n",
       "      <td>...</td>\n",
       "      <td>...</td>\n",
       "      <td>...</td>\n",
       "    </tr>\n",
       "    <tr>\n",
       "      <th>993</th>\n",
       "      <td>silky terrier</td>\n",
       "      <td>1.0</td>\n",
       "      <td>1.0</td>\n",
       "    </tr>\n",
       "    <tr>\n",
       "      <th>994</th>\n",
       "      <td>wardrobe</td>\n",
       "      <td>1.0</td>\n",
       "      <td>1.0</td>\n",
       "    </tr>\n",
       "    <tr>\n",
       "      <th>995</th>\n",
       "      <td>ringneck snake</td>\n",
       "      <td>1.0</td>\n",
       "      <td>1.0</td>\n",
       "    </tr>\n",
       "    <tr>\n",
       "      <th>996</th>\n",
       "      <td>seat belt</td>\n",
       "      <td>1.0</td>\n",
       "      <td>1.0</td>\n",
       "    </tr>\n",
       "    <tr>\n",
       "      <th>997</th>\n",
       "      <td>polecat</td>\n",
       "      <td>1.0</td>\n",
       "      <td>1.0</td>\n",
       "    </tr>\n",
       "  </tbody>\n",
       "</table>\n",
       "<p>998 rows × 3 columns</p>\n",
       "</div>"
      ],
      "text/plain": [
       "                  class  resnet  vit\n",
       "0           Appenzeller     0.0  0.0\n",
       "1              Band Aid     0.0  0.0\n",
       "2    Bedlington terrier     0.0  0.0\n",
       "3         Border collie     0.0  0.0\n",
       "4     Brabancon griffon     0.0  0.0\n",
       "..                  ...     ...  ...\n",
       "993       silky terrier     1.0  1.0\n",
       "994            wardrobe     1.0  1.0\n",
       "995      ringneck snake     1.0  1.0\n",
       "996           seat belt     1.0  1.0\n",
       "997             polecat     1.0  1.0\n",
       "\n",
       "[998 rows x 3 columns]"
      ]
     },
     "execution_count": 25,
     "metadata": {},
     "output_type": "execute_result"
    }
   ],
   "source": [
    "%%sql precision_by_class <<\n",
    "\n",
    "SELECT\n",
    "  ds.class,\n",
    "  SUM(CAST(resnet.label = ds.label AS FLOAT)) / COUNT(ds.label) as resnet,\n",
    "  SUM(CAST(vit.label = ds.label AS FLOAT)) / COUNT(ds.label) as vit\n",
    "FROM ds\n",
    "WHERE split = 'val'\n",
    "GROUP BY 1\n",
    "ORDER BY resnet ASC"
   ]
  },
  {
   "cell_type": "code",
   "execution_count": 26,
   "id": "b2e57fdf",
   "metadata": {
    "scrolled": false
   },
   "outputs": [
    {
     "data": {
      "text/plain": [
       "<AxesSubplot: xlabel='class'>"
      ]
     },
     "execution_count": 26,
     "metadata": {},
     "output_type": "execute_result"
    },
    {
     "data": {
      "image/png": "[encoded data removed]",
      "text/plain": [
       "<Figure size 2000x1000 with 1 Axes>"
      ]
     },
     "metadata": {},
     "output_type": "display_data"
    }
   ],
   "source": [
    "precision_by_class.head(10).set_index('class').plot.bar(figsize=(20,10))"
   ]
  },
  {
   "cell_type": "markdown",
   "id": "23404aa7",
   "metadata": {},
   "source": [
    "### Confusion matrix"
   ]
  },
  {
   "cell_type": "code",
   "execution_count": null,
   "id": "353f439d",
   "metadata": {},
   "outputs": [],
   "source": [
    "%%sql confusion <<\n",
    "\n",
    "WITH label_names AS (SELECT DISTINCT label, name FROM imagenet_classes)\n",
    "\n",
    "SELECT ds.class as gt, label_names.name as resnet\n",
    "FROM ds, label_names\n",
    "WHERE ds.resnet.label=label_names.label"
   ]
  },
  {
   "cell_type": "code",
   "execution_count": null,
   "id": "7faad1d3",
   "metadata": {},
   "outputs": [],
   "source": [
    "rs = confusion.reset_index().groupby(['gt', 'resnet']).count().reset_index().rename(columns={'index': 'count'})"
   ]
  },
  {
   "cell_type": "code",
   "execution_count": null,
   "id": "02fe3576",
   "metadata": {},
   "outputs": [],
   "source": [
    "rs[\"pct\"] = rs.groupby(\"gt\", group_keys=False)[\"count\"].apply(lambda grp: grp / grp.sum())"
   ]
  },
  {
   "cell_type": "code",
   "execution_count": null,
   "id": "8ba1f9da",
   "metadata": {},
   "outputs": [],
   "source": [
    "import seaborn as sns\n",
    "\n",
    "sns.heatmap((rs[rs[\"gt\"] != rs[\"resnet\"]]\n",
    "             .sort_values(\"pct\", ascending=False).head(10)\n",
    "             .set_index([\"gt\", \"resnet\"])[\"count\"].unstack(\"gt\")))"
   ]
  },
  {
   "cell_type": "markdown",
   "id": "e27b4bcf",
   "metadata": {},
   "source": [
    "<div class=\"alert alert-block alert-info\"> \n",
    "    💡 INSIGHT: top confused classes are often very similar. We can focus on these categories to improve model performance much more efficiently than adding data using random sampling\n",
    "</div>"
   ]
  },
  {
   "cell_type": "markdown",
   "id": "0a076b94-9591-4d6e-9191-45c77894e42e",
   "metadata": {},
   "source": [
    "## Automatically Detecting Mislabels\n",
    "\n",
    "Sometimes it's not the model but the labels that are wrong. Even a few bad labels can have outsized impact on model accuracy so it's critical we find them. To find potential mislables, we first need to automately establish a baseline of what consider as correct labels."
   ]
  },
  {
   "cell_type": "markdown",
   "id": "ec64dd3e",
   "metadata": {},
   "source": [
    "We establish the baseline via the agreements of the two pre-trained models inference results. That is,\n",
    "if the two models strongly agree with each other (i.e., same label and confience score is high), but the predict label is not what ground truth describes.\n",
    "\n",
    "Such logic can be easily expressed via SQL:"
   ]
  },
  {
   "cell_type": "code",
   "execution_count": null,
   "id": "10054526-3359-46e2-975b-4ec2215174d3",
   "metadata": {
    "scrolled": false
   },
   "outputs": [],
   "source": [
    "%%sql df <<\n",
    "\n",
    "WITH label_names AS (SELECT DISTINCT label, class as name FROM ds where class <> '')\n",
    "\n",
    "SELECT ds.image_id,\n",
    "       ds.image_uri,\n",
    "       ds.class AS ground_truth,\n",
    "       n2.name as predict,\n",
    "       resnet.score as score\n",
    "FROM ds, label_names as n1, label_names as n2\n",
    "WHERE\n",
    "  split != 'test'\n",
    "  AND n1.label !=  resnet.label \n",
    "  AND resnet.label = vit.label\n",
    "  AND ds.class = n1.name\n",
    "  AND resnet.label = n2.label\n",
    "ORDER BY resnet.score DESC\n",
    "LIMIT 20"
   ]
  },
  {
   "cell_type": "markdown",
   "id": "24e786d8",
   "metadata": {},
   "source": [
    "Btw Lance's UI can be embedded in a notebook and can interact with the notebook kernel (does not require external server)"
   ]
  },
  {
   "cell_type": "markdown",
   "id": "632e7c3b",
   "metadata": {},
   "source": [
    "### Labeling integration\n",
    "\n",
    "With Lance you can save labeling cost:\n",
    "1. No need to pay label service to manage data points you'll never label\n",
    "2. Data insights increases the efficiency of each label\n",
    "3. Easy integration to open-source labeling tools like Label Studio"
   ]
  },
  {
   "cell_type": "code",
   "execution_count": null,
   "id": "9f6e1f1b",
   "metadata": {},
   "outputs": [],
   "source": [
    "from labelstudio import LanceLabelStudioClient as Client\n",
    "\n",
    "ls = Client.create()\n",
    "p = ls.get_project(\"imagenet\")\n",
    "\n",
    "p.add_tasks(df.head(5), image_col=\"image_uri\", pk_col=\"image_id\")"
   ]
  },
  {
   "cell_type": "markdown",
   "id": "39ac7be7",
   "metadata": {},
   "source": [
    "Once labeled, we merge the new labels back into the dataset"
   ]
  },
  {
   "cell_type": "code",
   "execution_count": null,
   "id": "f62d8d20",
   "metadata": {},
   "outputs": [],
   "source": [
    "import pyarrow as pa\n",
    "label_df = p.get_annotations(\"label_studio_labels\")\n",
    "\n",
    "schema = pa.schema([pa.field('id', pa.string()),\n",
    "                    pa.field('label_studio_labels', pa.string())])\n",
    "tbl = pa.Table.from_pandas(label_df, schema)"
   ]
  },
  {
   "cell_type": "code",
   "execution_count": null,
   "id": "bf2a7e53",
   "metadata": {},
   "outputs": [],
   "source": [
    "ds = ds.merge(tbl, left_on='image_id', right_on='id')"
   ]
  },
  {
   "cell_type": "markdown",
   "id": "b0733a5b",
   "metadata": {},
   "source": [
    "Again, Lance automatically versions the changes so it's easy to diff and rollback"
   ]
  },
  {
   "cell_type": "code",
   "execution_count": null,
   "id": "5f592a18",
   "metadata": {},
   "outputs": [],
   "source": [
    "diff = lance.diff(ds, -2).columns_added()\n",
    "diff.schema"
   ]
  },
  {
   "cell_type": "code",
   "execution_count": null,
   "id": "5ca07395",
   "metadata": {},
   "outputs": [],
   "source": [
    "df = diff.head(n=ds.count_rows()).to_pandas()\n",
    "df[df.label_studio_labels != \"\"]"
   ]
  },
  {
   "cell_type": "markdown",
   "id": "ca6c5fb3",
   "metadata": {},
   "source": [
    "### Retrain without copying or converting\n",
    "\n",
    "Lance has native pytorch support so you can re-train the model without converting / copying the dataset into a pytorch compatible format"
   ]
  },
  {
   "cell_type": "code",
   "execution_count": null,
   "id": "ca1a515b",
   "metadata": {},
   "outputs": [],
   "source": [
    "import pyarrow.compute as pc\n",
    "\n",
    "dataset = Dataset(\n",
    "    uri,\n",
    "    filter=pc.field(\"split\") == \"train\",\n",
    "    columns=[\"image_id\", \"class\", \"image\"],  # only read certain columns\n",
    "    batch_size=1\n",
    ")\n",
    "\n",
    "for batch in dataset:\n",
    "    print(batch)\n",
    "    break"
   ]
  },
  {
   "cell_type": "markdown",
   "id": "4c3ce794-5cbe-4a46-898f-f7be84cd93aa",
   "metadata": {},
   "source": [
    "## Active Learning with Lance\n",
    "\n",
    "With active learning, we can get significantly better model performance on fewer labels. <br/>\n",
    "With Lance and DuckDB, it is easy to build active learning loop as well.\n",
    "\n",
    "One typical approach of Active Learning is finding `Lowest Margin of Confidence`. \n",
    "\n",
    "This query finds the examples where a model (*ResNet* in this case) is less confident between the top two candidates."
   ]
  },
  {
   "cell_type": "code",
   "execution_count": null,
   "id": "d9ad7b95-af4d-4cea-af23-c387a79c3151",
   "metadata": {
    "scrolled": true
   },
   "outputs": [],
   "source": [
    "%%sql least_margin <<\n",
    "\n",
    "WITH label_names AS (SELECT DISTINCT label, name FROM imagenet_classes)\n",
    "\n",
    "SELECT    \n",
    "    ds.image_id,\n",
    "    ds.image_uri,\n",
    "    n1.name as best_guess,\n",
    "    n2.name as second_guess,\n",
    "    resnet.score - resnet.second_score AS margin_of_confidence\n",
    "FROM ds, label_names as n1, label_names as n2\n",
    "WHERE \n",
    "    split != 'test'\n",
    "    AND n1.label = resnet.label\n",
    "    AND n2.label = resnet.second_label\n",
    "ORDER BY margin_of_confidence\n",
    "LIMIT 20"
   ]
  },
  {
   "cell_type": "markdown",
   "id": "1015fcf8-5b06-46de-98f3-e3a11c0be061",
   "metadata": {},
   "source": [
    "### Finding similar examples\n",
    "\n",
    "Once we know these low confidence examples, we can find similar out-of-sample data to augment our training dataset using Lance's ML functions in DuckDB"
   ]
  },
  {
   "cell_type": "markdown",
   "id": "26022bc8",
   "metadata": {},
   "source": [
    "Get out of sample data"
   ]
  },
  {
   "cell_type": "code",
   "execution_count": null,
   "id": "55f4869e",
   "metadata": {},
   "outputs": [],
   "source": [
    "if MODE == \"generate\":\n",
    "    !rm -rf /tmp/out_of_sample.lance.tar.gz\n",
    "    !curl https://eto-public.s3.amazonaws.com/datasets/imagenet_1k/imagenet1k_20k.lance.tar.gz --output /tmp/out_of_sample.lance.tar.gz\n",
    "!cd /tmp && tar -xvf out_of_sample.lance.tar.gz"
   ]
  },
  {
   "cell_type": "markdown",
   "id": "ef0150a3",
   "metadata": {},
   "source": [
    "Embeddings extractor"
   ]
  },
  {
   "cell_type": "code",
   "execution_count": null,
   "id": "be9c66c5",
   "metadata": {},
   "outputs": [],
   "source": [
    "import pyarrow as pa\n",
    "from torchvision.models.feature_extraction import create_feature_extractor\n",
    "\n",
    "resnet = resnet50(weights=\"DEFAULT\")\n",
    "resnet_extractor = create_feature_extractor(resnet, {\"avgpool\": \"features\"}).to(\"cuda\")\n",
    "resnet_extractor.eval()\n",
    "\n",
    "resnet_transforms = torchvision.models.ResNet50_Weights.DEFAULT.transforms()\n",
    "\n",
    "\n",
    "def compute_resnet_embeddings(uri):\n",
    "    image_ids = []\n",
    "    embeddings = []\n",
    "    with torch.no_grad():\n",
    "        for batch in Dataset(uri,\n",
    "                             columns=[\"image_id\", \"image\"],\n",
    "                             mode=\"batch\", batch_size=128):\n",
    "            imgs = torch.stack([resnet_transforms(img) for img in batch[1]]).to(\"cuda\")\n",
    "            resnet_out = resnet_extractor(imgs)[\"features\"].squeeze()\n",
    "            features = torch.softmax(resnet_out, dim=1).cpu()\n",
    "            embeddings.extend(features.tolist())\n",
    "            image_ids.extend(batch[0])\n",
    "            \n",
    "    emb_type = pa.list_(pa.float32(), list_size=2048)\n",
    "    arrays = [pa.array(image_ids), pa.array(embeddings, type=emb_type)]\n",
    "    schema=pa.schema([pa.field(\"image_id\", pa.string()), \n",
    "                      pa.field(\"embedding\", emb_type)])\n",
    "\n",
    "    tbl = pa.Table.from_arrays(arrays, schema=schema)\n",
    "    return tbl"
   ]
  },
  {
   "cell_type": "markdown",
   "id": "f71bb529",
   "metadata": {},
   "source": [
    "Compute embeddings for out-of-sample data"
   ]
  },
  {
   "cell_type": "code",
   "execution_count": null,
   "id": "45afbf76",
   "metadata": {},
   "outputs": [],
   "source": [
    "uri = \"/tmp/imagenet1k_20k.lance\"\n",
    "if MODE == \"generate\":\n",
    "    embeddings = compute_resnet_embeddings(uri)\n",
    "    !rm -rf /tmp/embeddings.lance\n",
    "    lance.write_dataset(embeddings, '/tmp/embeddings.lance')\n",
    "else:\n",
    "    embeddings = lance.dataset(\"/tmp/embeddings.lance\").to_table()"
   ]
  },
  {
   "cell_type": "code",
   "execution_count": null,
   "id": "1240c7a1",
   "metadata": {},
   "outputs": [],
   "source": [
    "out_of_sample = lance.dataset(uri)\n",
    "out_of_sample.merge(embeddings, left_on=\"image_id\", right_on=\"image_id\")\n",
    "out_of_sample = lance.dataset(uri)"
   ]
  },
  {
   "cell_type": "markdown",
   "id": "2f9f0b1d",
   "metadata": {},
   "source": [
    "Compute embeddings for training set using same model"
   ]
  },
  {
   "cell_type": "code",
   "execution_count": null,
   "id": "c66af9cf",
   "metadata": {},
   "outputs": [],
   "source": [
    "uri = \"/tmp/imagenet_1k.lance\"\n",
    "if MODE == \"generate\":\n",
    "    embeddings = compute_resnet_embeddings(uri)\n",
    "    !rm -rf /tmp/embeddings_train.lance\n",
    "    lance.write_dataset(embeddings, '/tmp/embeddings_train.lance')\n",
    "else:\n",
    "    embeddings = lance.dataset(\"/tmp/embeddings_train.lance\").to_table()"
   ]
  },
  {
   "cell_type": "code",
   "execution_count": null,
   "id": "8949ea9f",
   "metadata": {},
   "outputs": [],
   "source": [
    "training_set = lance.dataset(uri)\n",
    "training_set.merge(embeddings, left_on=\"image_id\", right_on=\"image_id\")\n",
    "training_set = lance.dataset(uri)"
   ]
  },
  {
   "cell_type": "markdown",
   "id": "0b05e14d",
   "metadata": {},
   "source": [
    "### Lance has ML functions for duckdb to compute similarity"
   ]
  },
  {
   "cell_type": "code",
   "execution_count": null,
   "id": "951e57f0",
   "metadata": {
    "scrolled": true
   },
   "outputs": [],
   "source": [
    "least_margin.iloc[0]"
   ]
  },
  {
   "cell_type": "code",
   "execution_count": null,
   "id": "26c7575e",
   "metadata": {},
   "outputs": [],
   "source": [
    "%%sql --lance\n",
    "\n",
    "with ref as (select embedding from training_set where image_id='n02120079_488')\n",
    "\n",
    "SELECT image_id, image_uri, l2_distance(oos.embedding, ref.embedding) as similarity\n",
    "FROM out_of_sample oos cross join ref\n",
    "ORDER BY 3\n",
    "LIMIT 10"
   ]
  },
  {
   "cell_type": "markdown",
   "id": "f79d8ef5",
   "metadata": {},
   "source": [
    "### Label then re-train\n",
    "\n",
    "Just like we did before, using LabelStudio integration and pytorch integration, it's easy to add these new data points to your dataset and improve your model"
   ]
  },
  {
   "cell_type": "markdown",
   "id": "51a78d72-131c-4a70-b1c0-9a855c92d9bb",
   "metadata": {},
   "source": [
    "## Lance makes it super-simple to create a Data-Driven ML development loop\n",
    "\n",
    "- Get insights in under 100ms via duckdb or pandas\n",
    "\n",
    "- Save labeling cost by only sending samples that need to be labeled to Scale/LabelBox. Or totally free using LabelStudio.\n",
    "\n",
    "- Lance dashboards and insights are customizable so you can tailor it to your use case exactly"
   ]
  },
  {
   "cell_type": "code",
   "execution_count": null,
   "id": "2fee4bca-67c5-4c12-aac2-95cafbb0e7d4",
   "metadata": {},
   "outputs": [],
   "source": []
  }
 ],
 "metadata": {
  "kernelspec": {
   "display_name": "Python 3 (ipykernel)",
   "language": "python",
   "name": "python3"
  },
  "language_info": {
   "codemirror_mode": {
    "name": "ipython",
    "version": 3
   },
   "file_extension": ".py",
   "mimetype": "text/x-python",
   "name": "python",
   "nbconvert_exporter": "python",
   "pygments_lexer": "ipython3",
   "version": "3.10.4"
  }
 },
 "nbformat": 4,
 "nbformat_minor": 5
}
