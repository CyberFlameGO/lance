{
 "cells": [
  {
   "cell_type": "markdown",
   "id": "3e6fdcc6-01e1-4abc-9b6a-baa42bdc7aec",
   "metadata": {},
   "source": [
    "# ImageNet-1K Data Quality and Model Performance\n",
    "\n",
    "[ImageNet 1K dataset](https://www.image-net.org/index.php) is an established image classification dataset.\n",
    "Plenty of the off-shief classification models are trained on it.\n",
    "\n",
    "In this notebook, we demo how much more we can know from such a public dataset and models.\n",
    "\n",
    "First, let's load necessary packages and setup DuckDB extensions."
   ]
  },
  {
   "cell_type": "code",
   "execution_count": 1,
   "id": "5a10997a-1786-4349-a290-61a10df983c5",
   "metadata": {},
   "outputs": [],
   "source": [
    "import lance\n",
    "import duckdb\n",
    "import torchvision\n",
    "import torch\n",
    "import pandas as pd\n",
    "import pyarrow as pa"
   ]
  },
  {
   "cell_type": "code",
   "execution_count": 2,
   "id": "fc4f6c53-4700-4a66-937c-c7181ce8fea3",
   "metadata": {},
   "outputs": [
    {
     "data": {
      "application/javascript": [
       "\n",
       "            debugger;\n",
       "            let codeCell = (window.Jupyter ?? window.IPython)?.CodeCell;\n",
       "            if (codeCell) {\n",
       "                let highlightModes = (codeCell.options_default ?? codeCell.config_defaults).highlight_modes;\n",
       "                if (!highlightModes['magic_sql'])\n",
       "                    highlightModes['magic_sql'] = {'reg': []};\n",
       "                highlightModes['magic_sql']['reg'].push(/^%%sql/);\n",
       "            }\n",
       "        "
      ]
     },
     "metadata": {},
     "output_type": "display_data"
    },
    {
     "name": "stdout",
     "output_type": "stream",
     "text": [
      "{}\n"
     ]
    }
   ],
   "source": [
    "%load_ext sql\n",
    "%sql duckdb:///:memory:"
   ]
  },
  {
   "cell_type": "code",
   "execution_count": 3,
   "id": "61359c01",
   "metadata": {},
   "outputs": [
    {
     "name": "stdout",
     "output_type": "stream",
     "text": [
      "  % Total    % Received % Xferd  Average Speed   Time    Time     Time  Current\n",
      "                                 Dload  Upload   Total   Spent    Left  Speed\n",
      "100 2353M  100 2353M    0     0  34.1M      0  0:01:08  0:01:08 --:--:-- 32.6M\n",
      "imagenet_1k.lance/\n",
      "imagenet_1k.lance/data/\n",
      "imagenet_1k.lance/data/5ba7facc-c257-4528-b257-04700234747b_0.lance\n",
      "imagenet_1k.lance/_versions/\n",
      "imagenet_1k.lance/_versions/1.manifest\n",
      "imagenet_1k.lance/_latest.manifest\n"
     ]
    }
   ],
   "source": [
    "!rm -rf /tmp/imagenet*\n",
    "!curl https://eto-public.s3.amazonaws.com/datasets/imagenet_1k/imagenet_1k.lance.tar.gz --output /tmp/imagenet.lance.tar.gz\n",
    "!cd /tmp && tar -xvf imagenet.lance.tar.gz"
   ]
  },
  {
   "cell_type": "code",
   "execution_count": 4,
   "id": "269b8739-0396-4e61-8a1b-63b3570dee0f",
   "metadata": {},
   "outputs": [],
   "source": [
    "uri = \"/tmp/imagenet_1k.lance\"\n",
    "ds = lance.dataset(uri)"
   ]
  },
  {
   "cell_type": "markdown",
   "id": "1d584f94",
   "metadata": {},
   "source": [
    "## Take a look at a few rows"
   ]
  },
  {
   "cell_type": "code",
   "execution_count": 35,
   "id": "7a290010",
   "metadata": {},
   "outputs": [
    {
     "name": "stdout",
     "output_type": "stream",
     "text": [
      "Took 0.49007582664489746\n"
     ]
    },
    {
     "data": {
      "text/html": [
       "<div>\n",
       "<style scoped>\n",
       "    .dataframe tbody tr th:only-of-type {\n",
       "        vertical-align: middle;\n",
       "    }\n",
       "\n",
       "    .dataframe tbody tr th {\n",
       "        vertical-align: top;\n",
       "    }\n",
       "\n",
       "    .dataframe thead th {\n",
       "        text-align: right;\n",
       "    }\n",
       "</style>\n",
       "<table border=\"1\" class=\"dataframe\">\n",
       "  <thead>\n",
       "    <tr style=\"text-align: right;\">\n",
       "      <th></th>\n",
       "      <th>id</th>\n",
       "      <th>image</th>\n",
       "      <th>label</th>\n",
       "      <th>name</th>\n",
       "      <th>split</th>\n",
       "      <th>resnet</th>\n",
       "      <th>vit</th>\n",
       "    </tr>\n",
       "  </thead>\n",
       "  <tbody>\n",
       "    <tr>\n",
       "      <th>0</th>\n",
       "      <td>1</td>\n",
       "      <td>b'\\xff\\xd8\\xff\\xe0\\x00\\x10JFIF\\x00\\x01\\x01\\x00...</td>\n",
       "      <td>726</td>\n",
       "      <td>plane, carpenter's plane, woodworking plane</td>\n",
       "      <td>train</td>\n",
       "      <td>{'label': 726, 'score': 0.6937224268913269, 's...</td>\n",
       "      <td>{'label': 726, 'score': 0.6804487109184265, 's...</td>\n",
       "    </tr>\n",
       "    <tr>\n",
       "      <th>1</th>\n",
       "      <td>2</td>\n",
       "      <td>b'\\xff\\xd8\\xff\\xe0\\x00\\x10JFIF\\x00\\x01\\x01\\x00...</td>\n",
       "      <td>917</td>\n",
       "      <td>comic book</td>\n",
       "      <td>train</td>\n",
       "      <td>{'label': 917, 'score': 0.8423280715942383, 's...</td>\n",
       "      <td>{'label': 917, 'score': 0.8432507514953613, 's...</td>\n",
       "    </tr>\n",
       "    <tr>\n",
       "      <th>2</th>\n",
       "      <td>3</td>\n",
       "      <td>b'\\xff\\xd8\\xff\\xe0\\x00\\x10JFIF\\x00\\x01\\x01\\x00...</td>\n",
       "      <td>13</td>\n",
       "      <td>junco, snowbird</td>\n",
       "      <td>train</td>\n",
       "      <td>{'label': 13, 'score': 0.8555507063865662, 'se...</td>\n",
       "      <td>{'label': 13, 'score': 0.837623119354248, 'sec...</td>\n",
       "    </tr>\n",
       "    <tr>\n",
       "      <th>3</th>\n",
       "      <td>4</td>\n",
       "      <td>b'\\xff\\xd8\\xff\\xe0\\x00\\x10JFIF\\x00\\x01\\x01\\x00...</td>\n",
       "      <td>939</td>\n",
       "      <td>zucchini, courgette</td>\n",
       "      <td>train</td>\n",
       "      <td>{'label': 939, 'score': 0.9330726861953735, 's...</td>\n",
       "      <td>{'label': 939, 'score': 0.9347161054611206, 's...</td>\n",
       "    </tr>\n",
       "    <tr>\n",
       "      <th>4</th>\n",
       "      <td>5</td>\n",
       "      <td>b'\\xff\\xd8\\xff\\xe0\\x00\\x10JFIF\\x00\\x01\\x01\\x00...</td>\n",
       "      <td>6</td>\n",
       "      <td>stingray</td>\n",
       "      <td>train</td>\n",
       "      <td>{'label': 6, 'score': 0.9341952204704285, 'sec...</td>\n",
       "      <td>{'label': 6, 'score': 0.9426975250244141, 'sec...</td>\n",
       "    </tr>\n",
       "    <tr>\n",
       "      <th>5</th>\n",
       "      <td>6</td>\n",
       "      <td>b'\\xff\\xd8\\xff\\xe0\\x00\\x10JFIF\\x00\\x01\\x01\\x00...</td>\n",
       "      <td>983</td>\n",
       "      <td>scuba diver</td>\n",
       "      <td>train</td>\n",
       "      <td>{'label': 983, 'score': 0.7601125836372375, 's...</td>\n",
       "      <td>{'label': 983, 'score': 0.7325905561447144, 's...</td>\n",
       "    </tr>\n",
       "    <tr>\n",
       "      <th>6</th>\n",
       "      <td>7</td>\n",
       "      <td>b'\\xff\\xd8\\xff\\xe0\\x00\\x10JFIF\\x00\\x01\\x01\\x00...</td>\n",
       "      <td>655</td>\n",
       "      <td>miniskirt, mini</td>\n",
       "      <td>train</td>\n",
       "      <td>{'label': 655, 'score': 0.7984981536865234, 's...</td>\n",
       "      <td>{'label': 655, 'score': 0.856082022190094, 'se...</td>\n",
       "    </tr>\n",
       "    <tr>\n",
       "      <th>7</th>\n",
       "      <td>8</td>\n",
       "      <td>b'\\xff\\xd8\\xff\\xe0\\x00\\x10JFIF\\x00\\x01\\x01\\x00...</td>\n",
       "      <td>579</td>\n",
       "      <td>grand piano, grand</td>\n",
       "      <td>train</td>\n",
       "      <td>{'label': 579, 'score': 0.25368696451187134, '...</td>\n",
       "      <td>{'label': 579, 'score': 0.2397327572107315, 's...</td>\n",
       "    </tr>\n",
       "    <tr>\n",
       "      <th>8</th>\n",
       "      <td>9</td>\n",
       "      <td>b'\\xff\\xd8\\xff\\xe0\\x00\\x10JFIF\\x00\\x01\\x01\\x00...</td>\n",
       "      <td>702</td>\n",
       "      <td>parallel bars, bars</td>\n",
       "      <td>train</td>\n",
       "      <td>{'label': 702, 'score': 0.8135064244270325, 's...</td>\n",
       "      <td>{'label': 702, 'score': 0.829046368598938, 'se...</td>\n",
       "    </tr>\n",
       "    <tr>\n",
       "      <th>9</th>\n",
       "      <td>10</td>\n",
       "      <td>b'\\xff\\xd8\\xff\\xe0\\x00\\x10JFIF\\x00\\x01\\x01\\x00...</td>\n",
       "      <td>845</td>\n",
       "      <td>syringe</td>\n",
       "      <td>train</td>\n",
       "      <td>{'label': 845, 'score': 0.8958879113197327, 's...</td>\n",
       "      <td>{'label': 845, 'score': 0.9042230248451233, 's...</td>\n",
       "    </tr>\n",
       "  </tbody>\n",
       "</table>\n",
       "</div>"
      ],
      "text/plain": [
       "   id                                              image  label  \\\n",
       "0   1  b'\\xff\\xd8\\xff\\xe0\\x00\\x10JFIF\\x00\\x01\\x01\\x00...    726   \n",
       "1   2  b'\\xff\\xd8\\xff\\xe0\\x00\\x10JFIF\\x00\\x01\\x01\\x00...    917   \n",
       "2   3  b'\\xff\\xd8\\xff\\xe0\\x00\\x10JFIF\\x00\\x01\\x01\\x00...     13   \n",
       "3   4  b'\\xff\\xd8\\xff\\xe0\\x00\\x10JFIF\\x00\\x01\\x01\\x00...    939   \n",
       "4   5  b'\\xff\\xd8\\xff\\xe0\\x00\\x10JFIF\\x00\\x01\\x01\\x00...      6   \n",
       "5   6  b'\\xff\\xd8\\xff\\xe0\\x00\\x10JFIF\\x00\\x01\\x01\\x00...    983   \n",
       "6   7  b'\\xff\\xd8\\xff\\xe0\\x00\\x10JFIF\\x00\\x01\\x01\\x00...    655   \n",
       "7   8  b'\\xff\\xd8\\xff\\xe0\\x00\\x10JFIF\\x00\\x01\\x01\\x00...    579   \n",
       "8   9  b'\\xff\\xd8\\xff\\xe0\\x00\\x10JFIF\\x00\\x01\\x01\\x00...    702   \n",
       "9  10  b'\\xff\\xd8\\xff\\xe0\\x00\\x10JFIF\\x00\\x01\\x01\\x00...    845   \n",
       "\n",
       "                                          name  split  \\\n",
       "0  plane, carpenter's plane, woodworking plane  train   \n",
       "1                                   comic book  train   \n",
       "2                              junco, snowbird  train   \n",
       "3                          zucchini, courgette  train   \n",
       "4                                     stingray  train   \n",
       "5                                  scuba diver  train   \n",
       "6                              miniskirt, mini  train   \n",
       "7                           grand piano, grand  train   \n",
       "8                          parallel bars, bars  train   \n",
       "9                                      syringe  train   \n",
       "\n",
       "                                              resnet  \\\n",
       "0  {'label': 726, 'score': 0.6937224268913269, 's...   \n",
       "1  {'label': 917, 'score': 0.8423280715942383, 's...   \n",
       "2  {'label': 13, 'score': 0.8555507063865662, 'se...   \n",
       "3  {'label': 939, 'score': 0.9330726861953735, 's...   \n",
       "4  {'label': 6, 'score': 0.9341952204704285, 'sec...   \n",
       "5  {'label': 983, 'score': 0.7601125836372375, 's...   \n",
       "6  {'label': 655, 'score': 0.7984981536865234, 's...   \n",
       "7  {'label': 579, 'score': 0.25368696451187134, '...   \n",
       "8  {'label': 702, 'score': 0.8135064244270325, 's...   \n",
       "9  {'label': 845, 'score': 0.8958879113197327, 's...   \n",
       "\n",
       "                                                 vit  \n",
       "0  {'label': 726, 'score': 0.6804487109184265, 's...  \n",
       "1  {'label': 917, 'score': 0.8432507514953613, 's...  \n",
       "2  {'label': 13, 'score': 0.837623119354248, 'sec...  \n",
       "3  {'label': 939, 'score': 0.9347161054611206, 's...  \n",
       "4  {'label': 6, 'score': 0.9426975250244141, 'sec...  \n",
       "5  {'label': 983, 'score': 0.7325905561447144, 's...  \n",
       "6  {'label': 655, 'score': 0.856082022190094, 'se...  \n",
       "7  {'label': 579, 'score': 0.2397327572107315, 's...  \n",
       "8  {'label': 702, 'score': 0.829046368598938, 'se...  \n",
       "9  {'label': 845, 'score': 0.9042230248451233, 's...  "
      ]
     },
     "execution_count": 35,
     "metadata": {},
     "output_type": "execute_result"
    }
   ],
   "source": [
    "%%sql df <<\n",
    "\n",
    "SELECT * FROM ds LIMIT 10;"
   ]
  },
  {
   "cell_type": "markdown",
   "id": "2d471c9a",
   "metadata": {},
   "source": [
    "<div class=\"alert alert-block alert-danger\"> \n",
    "    NEED IMAGE GRID TO WORK FOR EMBEDDED IMAGES\n",
    "</div>"
   ]
  },
  {
   "cell_type": "markdown",
   "id": "43702dc8",
   "metadata": {},
   "source": [
    "## We can do some simple summary statistics"
   ]
  },
  {
   "cell_type": "markdown",
   "id": "46bdd254",
   "metadata": {},
   "source": [
    "Using pandas we can see it has even splits"
   ]
  },
  {
   "cell_type": "code",
   "execution_count": 6,
   "id": "9f82b63c-3d48-43e0-92cd-bca457184770",
   "metadata": {},
   "outputs": [
    {
     "data": {
      "text/plain": [
       "train         20000\n",
       "validation    20000\n",
       "test          20000\n",
       "Name: split, dtype: int64"
      ]
     },
     "execution_count": 6,
     "metadata": {},
     "output_type": "execute_result"
    }
   ],
   "source": [
    "(ds.scanner(columns=[\"split\"])\n",
    " .to_table().to_pandas()\n",
    " .split.value_counts())"
   ]
  },
  {
   "cell_type": "markdown",
   "id": "0417af46",
   "metadata": {},
   "source": [
    "We can also query lance datasets using SQL.\n",
    "Here we check the label distribution"
   ]
  },
  {
   "cell_type": "code",
   "execution_count": 7,
   "id": "d76eb86f",
   "metadata": {},
   "outputs": [
    {
     "name": "stdout",
     "output_type": "stream",
     "text": [
      "Took 0.03220534324645996\n"
     ]
    },
    {
     "data": {
      "text/html": [
       "<div>\n",
       "<style scoped>\n",
       "    .dataframe tbody tr th:only-of-type {\n",
       "        vertical-align: middle;\n",
       "    }\n",
       "\n",
       "    .dataframe tbody tr th {\n",
       "        vertical-align: top;\n",
       "    }\n",
       "\n",
       "    .dataframe thead th {\n",
       "        text-align: right;\n",
       "    }\n",
       "</style>\n",
       "<table border=\"1\" class=\"dataframe\">\n",
       "  <thead>\n",
       "    <tr style=\"text-align: right;\">\n",
       "      <th></th>\n",
       "      <th>name</th>\n",
       "      <th>count</th>\n",
       "    </tr>\n",
       "  </thead>\n",
       "  <tbody>\n",
       "    <tr>\n",
       "      <th>0</th>\n",
       "      <td>tench, Tinca tinca</td>\n",
       "      <td>20031</td>\n",
       "    </tr>\n",
       "    <tr>\n",
       "      <th>1</th>\n",
       "      <td>garter snake, grass snake</td>\n",
       "      <td>58</td>\n",
       "    </tr>\n",
       "    <tr>\n",
       "      <th>2</th>\n",
       "      <td>dome</td>\n",
       "      <td>58</td>\n",
       "    </tr>\n",
       "    <tr>\n",
       "      <th>3</th>\n",
       "      <td>miniature pinscher</td>\n",
       "      <td>57</td>\n",
       "    </tr>\n",
       "    <tr>\n",
       "      <th>4</th>\n",
       "      <td>toilet tissue, toilet paper, bathroom tissue</td>\n",
       "      <td>56</td>\n",
       "    </tr>\n",
       "    <tr>\n",
       "      <th>5</th>\n",
       "      <td>hoopskirt, crinoline</td>\n",
       "      <td>55</td>\n",
       "    </tr>\n",
       "    <tr>\n",
       "      <th>6</th>\n",
       "      <td>flamingo</td>\n",
       "      <td>55</td>\n",
       "    </tr>\n",
       "    <tr>\n",
       "      <th>7</th>\n",
       "      <td>collie</td>\n",
       "      <td>55</td>\n",
       "    </tr>\n",
       "    <tr>\n",
       "      <th>8</th>\n",
       "      <td>sliding door</td>\n",
       "      <td>54</td>\n",
       "    </tr>\n",
       "    <tr>\n",
       "      <th>9</th>\n",
       "      <td>amphibian, amphibious vehicle</td>\n",
       "      <td>54</td>\n",
       "    </tr>\n",
       "  </tbody>\n",
       "</table>\n",
       "</div>"
      ],
      "text/plain": [
       "                                           name  count\n",
       "0                            tench, Tinca tinca  20031\n",
       "1                     garter snake, grass snake     58\n",
       "2                                          dome     58\n",
       "3                            miniature pinscher     57\n",
       "4  toilet tissue, toilet paper, bathroom tissue     56\n",
       "5                          hoopskirt, crinoline     55\n",
       "6                                      flamingo     55\n",
       "7                                        collie     55\n",
       "8                                  sliding door     54\n",
       "9                 amphibian, amphibious vehicle     54"
      ]
     },
     "execution_count": 7,
     "metadata": {},
     "output_type": "execute_result"
    }
   ],
   "source": [
    "%%sql label_counts <<\n",
    "\n",
    "SELECT name, count(name) as count\n",
    "FROM ds\n",
    "GROUP BY 1\n",
    "ORDER BY 2 DESC\n",
    "LIMIT 10"
   ]
  },
  {
   "cell_type": "code",
   "execution_count": 8,
   "id": "f17b2ac7",
   "metadata": {},
   "outputs": [
    {
     "data": {
      "text/plain": [
       "<AxesSubplot: xlabel='name'>"
      ]
     },
     "execution_count": 8,
     "metadata": {},
     "output_type": "execute_result"
    },
    {
     "data": {
      "image/png": "[encoded data removed]",
      "text/plain": [
       "<Figure size 640x480 with 1 Axes>"
      ]
     },
     "metadata": {},
     "output_type": "display_data"
    }
   ],
   "source": [
    "label_counts.set_index('name').plot.bar()"
   ]
  },
  {
   "cell_type": "markdown",
   "id": "88265369-1d77-49bf-8af1-9cd9d8760201",
   "metadata": {},
   "source": [
    "## Use two official pre-trained models ResNet and VisionTransform\n",
    "\n",
    "We load two pretrained classic CNN and Transformer models to help us understand the dataset better.\n",
    "\n",
    "* The ResNet model is based on the [Deep Residual Learning for Image Recognition paper](https://arxiv.org/abs/1512.03385)\n",
    "* The VisionTransformer model is based on the [An Image is Worth 16x16 Words: Transformers for Image Recognition at Scale paper](https://arxiv.org/abs/2010.11929).\n",
    "\n",
    "Models are moved to the accelerators if available. \n",
    "Not only we support CUDA as backend, we support [MPS backend on macOS](https://pytorch.org/docs/stable/notes/mps.html) as well."
   ]
  },
  {
   "cell_type": "code",
   "execution_count": 9,
   "id": "1e4c6619-0505-4e4a-8f57-59cf6740ebdc",
   "metadata": {},
   "outputs": [],
   "source": [
    "from torchvision.models import resnet50, vit_b_16\n",
    "import torch\n",
    "\n",
    "# Support CUDA (Linux) or MPS (Mac) backends.\n",
    "device = torch.device(\n",
    "    \"cuda\" if torch.cuda.is_available() else (\n",
    "        \"mps\" if torch.backends.mps.is_available() else \"cpu\")\n",
    ")\n",
    "\n",
    "resnet = resnet50(weights=\"DEFAULT\").to(device)\n",
    "vit = vit_b_16(weights=\"DEFAULT\").to(device)"
   ]
  },
  {
   "cell_type": "markdown",
   "id": "537e701a-337b-4f56-af4d-cea0a9f58411",
   "metadata": {},
   "source": [
    "## Run the inference of these two models\n",
    "\n",
    "Lance provides native [PyTorch Dataset](https://eto-ai.github.io/lance/api/python/lance.pytorch.html#lance.pytorch.data.Dataset),\n",
    "which works with PyTorch DataLoader.\n",
    "\n",
    "We can write a plain PyTorch evaluation loop and persist the predictions back to the dataset for future analysis.\n",
    "\n"
   ]
  },
  {
   "cell_type": "code",
   "execution_count": 10,
   "id": "8f10acce-0334-4468-9835-29fdb1e2a317",
   "metadata": {},
   "outputs": [
    {
     "name": "stdout",
     "output_type": "stream",
     "text": [
      "CPU times: user 37min 41s, sys: 6.38 s, total: 37min 47s\n",
      "Wall time: 8min 23s\n"
     ]
    }
   ],
   "source": [
    "%%time\n",
    "\n",
    "# TODO: make easy conversion between lance.Dataset and lance.pytorch.Dataset\n",
    "from lance.pytorch import Dataset\n",
    "from torch.utils.data import DataLoader\n",
    "\n",
    "def run_inference(uri: str, model, transform, col_name: str) -> pa.Table:\n",
    "    dataset = Dataset(\n",
    "        uri, \n",
    "        columns=[\"id\", \"image\"],\n",
    "        mode=\"batch\",\n",
    "        batch_size=128\n",
    "    )\n",
    "    data_loader = DataLoader(dataset, batch_size=1, num_workers=4)\n",
    "    results = []\n",
    "    with torch.no_grad():\n",
    "        model.eval()\n",
    "        for batch in dataset:\n",
    "            imgs = [transform(img).to(device) for img in batch[1]]\n",
    "            prediction = resnet(torch.stack(imgs)).squeeze(0).softmax(0)\n",
    "            topk = torch.topk(prediction, 2)\n",
    "            for pk, scores, indices in zip(\n",
    "                batch[0], topk.values.tolist(), topk.indices.tolist()\n",
    "            ):\n",
    "                results.append({\n",
    "                    \"id\": pk.item(),\n",
    "                    col_name: {\n",
    "                        \"label\": indices[0], \n",
    "                        \"score\": scores[0], \n",
    "                        \"second_label\": indices[1],  # Secondary guess\n",
    "                        \"second_score\": scores[1],  # Confidence of the secondary guess.\n",
    "                    }\n",
    "                })\n",
    "    df = pd.DataFrame(data=results)\n",
    "    df = df.astype({\"id\": \"int32\"})\n",
    "    return pa.Table.from_pandas(df)\n",
    "\n",
    "resnet_table = run_inference(\n",
    "    uri, resnet, torchvision.models.ResNet50_Weights.DEFAULT.transforms(), \"resnet\"\n",
    ")\n",
    "vit_table = run_inference(\n",
    "    uri, vit, torchvision.models.ViT_L_16_Weights.DEFAULT.transforms(), \"vit\"\n",
    ")"
   ]
  },
  {
   "cell_type": "markdown",
   "id": "3b5f0a06-63bf-48f1-a4cb-c9f2af9ca249",
   "metadata": {},
   "source": [
    "## Add inference results to dataset without copying\n",
    "\n",
    "Because Lance supports [Schema Evolution](https://en.wikipedia.org/wiki/Schema_evolution), \n",
    "it is quite easy to add new columns from the model inference back to the dataset."
   ]
  },
  {
   "cell_type": "code",
   "execution_count": 11,
   "id": "75b78548",
   "metadata": {},
   "outputs": [
    {
     "data": {
      "text/plain": [
       "id: int32\n",
       "image: extension<image[binary]<ImageBinaryType>>\n",
       "label: int16\n",
       "name: dictionary<values=string, indices=int16, ordered=0>\n",
       "split: dictionary<values=string, indices=int8, ordered=0>"
      ]
     },
     "execution_count": 11,
     "metadata": {},
     "output_type": "execute_result"
    }
   ],
   "source": [
    "ds.schema"
   ]
  },
  {
   "cell_type": "code",
   "execution_count": 12,
   "id": "33626633-2817-4574-b688-96b93acfb25f",
   "metadata": {},
   "outputs": [
    {
     "data": {
      "text/plain": [
       "id: int32\n",
       "image: extension<image[binary]<ImageBinaryType>>\n",
       "label: int16\n",
       "name: dictionary<values=string, indices=int16, ordered=0>\n",
       "split: dictionary<values=string, indices=int8, ordered=0>\n",
       "resnet: struct<label: int64, score: double, second_label: int64, second_score: double>\n",
       "  child 0, label: int64\n",
       "  child 1, score: double\n",
       "  child 2, second_label: int64\n",
       "  child 3, second_score: double\n",
       "vit: struct<label: int64, score: double, second_label: int64, second_score: double>\n",
       "  child 0, label: int64\n",
       "  child 1, score: double\n",
       "  child 2, second_label: int64\n",
       "  child 3, second_score: double"
      ]
     },
     "execution_count": 12,
     "metadata": {},
     "output_type": "execute_result"
    }
   ],
   "source": [
    "ds = ds.merge(resnet_table, left_on=\"id\", right_on=\"id\")\n",
    "ds = ds.merge(vit_table, left_on=\"id\", right_on=\"id\")\n",
    "ds.schema"
   ]
  },
  {
   "cell_type": "markdown",
   "id": "01765557-90a1-4a6f-b5d0-50c03e4c394e",
   "metadata": {},
   "source": [
    "Two columns `resnet` and `vit` are added using a LEFT JOIN algorithm on the \"id\" column, each of which contains the inference output from the model respectively.\n",
    "\n",
    "Actually, by doing so, we creates 2 extra versions of Lance dataset. Underneath, Lance only writes the new columns to disk. It will not make extra copy of the existing columns. "
   ]
  },
  {
   "cell_type": "code",
   "execution_count": 13,
   "id": "6b2c19ab-1e71-4ffb-b7ed-f569a71160ee",
   "metadata": {},
   "outputs": [
    {
     "data": {
      "text/plain": [
       "[{'version': 1,\n",
       "  'timestamp': datetime.datetime(2022, 12, 19, 23, 21, 28, tzinfo=datetime.timezone.utc),\n",
       "  'metadata': {}},\n",
       " {'version': 2,\n",
       "  'timestamp': datetime.datetime(2022, 12, 20, 17, 41, 27, tzinfo=datetime.timezone.utc),\n",
       "  'metadata': {}},\n",
       " {'version': 3,\n",
       "  'timestamp': datetime.datetime(2022, 12, 20, 17, 41, 27, tzinfo=datetime.timezone.utc),\n",
       "  'metadata': {}}]"
      ]
     },
     "execution_count": 13,
     "metadata": {},
     "output_type": "execute_result"
    }
   ],
   "source": [
    "# See multiple versions of the dataset\n",
    "\n",
    "ds.versions()"
   ]
  },
  {
   "cell_type": "markdown",
   "id": "3db710fb-5099-4c99-a491-8d08db775d56",
   "metadata": {},
   "source": [
    "## Model Performance\n",
    "\n",
    "Using lance and SQL, computing basic ML metrics such as ***precision*** is straightfoward and fast.\n",
    "SQL support means it's easy to integrate with BI tooling for visualizations"
   ]
  },
  {
   "cell_type": "markdown",
   "id": "362f463e",
   "metadata": {},
   "source": [
    "### Model precision"
   ]
  },
  {
   "cell_type": "code",
   "execution_count": 14,
   "id": "cdb32c1a-a7cb-4f74-b99e-e5b6e5c263b8",
   "metadata": {},
   "outputs": [
    {
     "name": "stdout",
     "output_type": "stream",
     "text": [
      "Took 0.029704570770263672\n"
     ]
    },
    {
     "data": {
      "text/html": [
       "<div>\n",
       "<style scoped>\n",
       "    .dataframe tbody tr th:only-of-type {\n",
       "        vertical-align: middle;\n",
       "    }\n",
       "\n",
       "    .dataframe tbody tr th {\n",
       "        vertical-align: top;\n",
       "    }\n",
       "\n",
       "    .dataframe thead th {\n",
       "        text-align: right;\n",
       "    }\n",
       "</style>\n",
       "<table border=\"1\" class=\"dataframe\">\n",
       "  <thead>\n",
       "    <tr style=\"text-align: right;\">\n",
       "      <th></th>\n",
       "      <th>resnet</th>\n",
       "      <th>vit</th>\n",
       "    </tr>\n",
       "  </thead>\n",
       "  <tbody>\n",
       "    <tr>\n",
       "      <th>0</th>\n",
       "      <td>0.7862</td>\n",
       "      <td>0.7837</td>\n",
       "    </tr>\n",
       "  </tbody>\n",
       "</table>\n",
       "</div>"
      ],
      "text/plain": [
       "   resnet     vit\n",
       "0  0.7862  0.7837"
      ]
     },
     "execution_count": 14,
     "metadata": {},
     "output_type": "execute_result"
    }
   ],
   "source": [
    "%%sql precision <<\n",
    "\n",
    "SELECT \n",
    "  SUM(CAST(resnet.label = label AS FLOAT)) / COUNT(label) as resnet,\n",
    "  SUM(CAST(vit.label = label AS FLOAT)) / COUNT(label) as vit\n",
    "FROM ds \n",
    "WHERE split = 'validation'"
   ]
  },
  {
   "cell_type": "code",
   "execution_count": 15,
   "id": "db7d597c",
   "metadata": {},
   "outputs": [
    {
     "data": {
      "text/plain": [
       "<AxesSubplot: >"
      ]
     },
     "execution_count": 15,
     "metadata": {},
     "output_type": "execute_result"
    },
    {
     "data": {
      "image/png": "[encoded data removed]",
      "text/plain": [
       "<Figure size 640x480 with 1 Axes>"
      ]
     },
     "metadata": {},
     "output_type": "display_data"
    }
   ],
   "source": [
    "precision.T.rename(columns={0: 'precision'}).squeeze().plot.bar()"
   ]
  },
  {
   "cell_type": "markdown",
   "id": "5f2708e8-c65a-4335-94c3-cf01f4700451",
   "metadata": {},
   "source": [
    "### Metrics across arbitrary dimensions\n",
    "\n",
    "With Lance, it is trivial to slice into each label class to detailed model performance in each class.\n",
    "\n",
    "For example, we can see that both models consistently perform badly in `maillot` and `sunglass` categories."
   ]
  },
  {
   "cell_type": "code",
   "execution_count": 16,
   "id": "71a1171c-1916-4ffa-b03e-e1f411fd8a72",
   "metadata": {},
   "outputs": [
    {
     "name": "stdout",
     "output_type": "stream",
     "text": [
      "Took 0.04000234603881836\n"
     ]
    },
    {
     "data": {
      "text/html": [
       "<div>\n",
       "<style scoped>\n",
       "    .dataframe tbody tr th:only-of-type {\n",
       "        vertical-align: middle;\n",
       "    }\n",
       "\n",
       "    .dataframe tbody tr th {\n",
       "        vertical-align: top;\n",
       "    }\n",
       "\n",
       "    .dataframe thead th {\n",
       "        text-align: right;\n",
       "    }\n",
       "</style>\n",
       "<table border=\"1\" class=\"dataframe\">\n",
       "  <thead>\n",
       "    <tr style=\"text-align: right;\">\n",
       "      <th></th>\n",
       "      <th>class</th>\n",
       "      <th>resnet</th>\n",
       "      <th>vit</th>\n",
       "    </tr>\n",
       "  </thead>\n",
       "  <tbody>\n",
       "    <tr>\n",
       "      <th>0</th>\n",
       "      <td>maillot</td>\n",
       "      <td>0.055556</td>\n",
       "      <td>0.055556</td>\n",
       "    </tr>\n",
       "    <tr>\n",
       "      <th>1</th>\n",
       "      <td>sunglasses, dark glasses, shades</td>\n",
       "      <td>0.100000</td>\n",
       "      <td>0.100000</td>\n",
       "    </tr>\n",
       "    <tr>\n",
       "      <th>2</th>\n",
       "      <td>Appenzeller</td>\n",
       "      <td>0.187500</td>\n",
       "      <td>0.250000</td>\n",
       "    </tr>\n",
       "    <tr>\n",
       "      <th>3</th>\n",
       "      <td>monitor</td>\n",
       "      <td>0.200000</td>\n",
       "      <td>0.250000</td>\n",
       "    </tr>\n",
       "    <tr>\n",
       "      <th>4</th>\n",
       "      <td>notebook, notebook computer</td>\n",
       "      <td>0.210526</td>\n",
       "      <td>0.263158</td>\n",
       "    </tr>\n",
       "    <tr>\n",
       "      <th>...</th>\n",
       "      <td>...</td>\n",
       "      <td>...</td>\n",
       "      <td>...</td>\n",
       "    </tr>\n",
       "    <tr>\n",
       "      <th>995</th>\n",
       "      <td>yellow lady's slipper, yellow lady-slipper, Cy...</td>\n",
       "      <td>1.000000</td>\n",
       "      <td>1.000000</td>\n",
       "    </tr>\n",
       "    <tr>\n",
       "      <th>996</th>\n",
       "      <td>German short-haired pointer</td>\n",
       "      <td>1.000000</td>\n",
       "      <td>1.000000</td>\n",
       "    </tr>\n",
       "    <tr>\n",
       "      <th>997</th>\n",
       "      <td>pug, pug-dog</td>\n",
       "      <td>1.000000</td>\n",
       "      <td>1.000000</td>\n",
       "    </tr>\n",
       "    <tr>\n",
       "      <th>998</th>\n",
       "      <td>custard apple</td>\n",
       "      <td>1.000000</td>\n",
       "      <td>1.000000</td>\n",
       "    </tr>\n",
       "    <tr>\n",
       "      <th>999</th>\n",
       "      <td>great grey owl, great gray owl, Strix nebulosa</td>\n",
       "      <td>1.000000</td>\n",
       "      <td>0.944444</td>\n",
       "    </tr>\n",
       "  </tbody>\n",
       "</table>\n",
       "<p>1000 rows × 3 columns</p>\n",
       "</div>"
      ],
      "text/plain": [
       "                                                 class    resnet       vit\n",
       "0                                              maillot  0.055556  0.055556\n",
       "1                     sunglasses, dark glasses, shades  0.100000  0.100000\n",
       "2                                          Appenzeller  0.187500  0.250000\n",
       "3                                              monitor  0.200000  0.250000\n",
       "4                          notebook, notebook computer  0.210526  0.263158\n",
       "..                                                 ...       ...       ...\n",
       "995  yellow lady's slipper, yellow lady-slipper, Cy...  1.000000  1.000000\n",
       "996                        German short-haired pointer  1.000000  1.000000\n",
       "997                                       pug, pug-dog  1.000000  1.000000\n",
       "998                                      custard apple  1.000000  1.000000\n",
       "999     great grey owl, great gray owl, Strix nebulosa  1.000000  0.944444\n",
       "\n",
       "[1000 rows x 3 columns]"
      ]
     },
     "execution_count": 16,
     "metadata": {},
     "output_type": "execute_result"
    }
   ],
   "source": [
    "%%sql precision_by_class <<\n",
    "\n",
    "SELECT\n",
    "  DISTINCT(name) as class,\n",
    "  SUM(CAST(resnet.label == label AS FLOAT)) / COUNT(label) as resnet,\n",
    "  SUM(CAST(vit.label == label AS FLOAT)) / COUNT(label) as vit\n",
    "FROM ds \n",
    "WHERE split = 'validation'\n",
    "GROUP BY name\n",
    "ORDER BY resnet ASC"
   ]
  },
  {
   "cell_type": "code",
   "execution_count": 17,
   "id": "b2e57fdf",
   "metadata": {
    "scrolled": false
   },
   "outputs": [
    {
     "data": {
      "text/plain": [
       "<AxesSubplot: xlabel='class'>"
      ]
     },
     "execution_count": 17,
     "metadata": {},
     "output_type": "execute_result"
    },
    {
     "data": {
      "image/png": "[encoded data removed]",
      "text/plain": [
       "<Figure size 2000x1000 with 1 Axes>"
      ]
     },
     "metadata": {},
     "output_type": "display_data"
    }
   ],
   "source": [
    "precision_by_class.head(10).set_index('class').plot.bar(figsize=(20,10))"
   ]
  },
  {
   "cell_type": "markdown",
   "id": "23404aa7",
   "metadata": {},
   "source": [
    "### Confusion matrix"
   ]
  },
  {
   "cell_type": "code",
   "execution_count": 18,
   "id": "353f439d",
   "metadata": {},
   "outputs": [
    {
     "name": "stdout",
     "output_type": "stream",
     "text": [
      "Took 0.16315484046936035\n"
     ]
    },
    {
     "data": {
      "text/html": [
       "<div>\n",
       "<style scoped>\n",
       "    .dataframe tbody tr th:only-of-type {\n",
       "        vertical-align: middle;\n",
       "    }\n",
       "\n",
       "    .dataframe tbody tr th {\n",
       "        vertical-align: top;\n",
       "    }\n",
       "\n",
       "    .dataframe thead th {\n",
       "        text-align: right;\n",
       "    }\n",
       "</style>\n",
       "<table border=\"1\" class=\"dataframe\">\n",
       "  <thead>\n",
       "    <tr style=\"text-align: right;\">\n",
       "      <th></th>\n",
       "      <th>gt</th>\n",
       "      <th>resnet</th>\n",
       "    </tr>\n",
       "  </thead>\n",
       "  <tbody>\n",
       "    <tr>\n",
       "      <th>0</th>\n",
       "      <td>plane, carpenter's plane, woodworking plane</td>\n",
       "      <td>plane, carpenter's plane, woodworking plane</td>\n",
       "    </tr>\n",
       "    <tr>\n",
       "      <th>1</th>\n",
       "      <td>comic book</td>\n",
       "      <td>comic book</td>\n",
       "    </tr>\n",
       "    <tr>\n",
       "      <th>2</th>\n",
       "      <td>junco, snowbird</td>\n",
       "      <td>junco, snowbird</td>\n",
       "    </tr>\n",
       "    <tr>\n",
       "      <th>3</th>\n",
       "      <td>stingray</td>\n",
       "      <td>stingray</td>\n",
       "    </tr>\n",
       "    <tr>\n",
       "      <th>4</th>\n",
       "      <td>scuba diver</td>\n",
       "      <td>scuba diver</td>\n",
       "    </tr>\n",
       "    <tr>\n",
       "      <th>...</th>\n",
       "      <td>...</td>\n",
       "      <td>...</td>\n",
       "    </tr>\n",
       "    <tr>\n",
       "      <th>59995</th>\n",
       "      <td>tench, Tinca tinca</td>\n",
       "      <td>ladybug, ladybeetle, lady beetle, ladybird, la...</td>\n",
       "    </tr>\n",
       "    <tr>\n",
       "      <th>59996</th>\n",
       "      <td>tench, Tinca tinca</td>\n",
       "      <td>European fire salamander, Salamandra salamandra</td>\n",
       "    </tr>\n",
       "    <tr>\n",
       "      <th>59997</th>\n",
       "      <td>tench, Tinca tinca</td>\n",
       "      <td>gyromitra</td>\n",
       "    </tr>\n",
       "    <tr>\n",
       "      <th>59998</th>\n",
       "      <td>tench, Tinca tinca</td>\n",
       "      <td>envelope</td>\n",
       "    </tr>\n",
       "    <tr>\n",
       "      <th>59999</th>\n",
       "      <td>tench, Tinca tinca</td>\n",
       "      <td>night snake, Hypsiglena torquata</td>\n",
       "    </tr>\n",
       "  </tbody>\n",
       "</table>\n",
       "<p>60000 rows × 2 columns</p>\n",
       "</div>"
      ],
      "text/plain": [
       "                                                gt  \\\n",
       "0      plane, carpenter's plane, woodworking plane   \n",
       "1                                       comic book   \n",
       "2                                  junco, snowbird   \n",
       "3                                         stingray   \n",
       "4                                      scuba diver   \n",
       "...                                            ...   \n",
       "59995                           tench, Tinca tinca   \n",
       "59996                           tench, Tinca tinca   \n",
       "59997                           tench, Tinca tinca   \n",
       "59998                           tench, Tinca tinca   \n",
       "59999                           tench, Tinca tinca   \n",
       "\n",
       "                                                  resnet  \n",
       "0            plane, carpenter's plane, woodworking plane  \n",
       "1                                             comic book  \n",
       "2                                        junco, snowbird  \n",
       "3                                               stingray  \n",
       "4                                            scuba diver  \n",
       "...                                                  ...  \n",
       "59995  ladybug, ladybeetle, lady beetle, ladybird, la...  \n",
       "59996    European fire salamander, Salamandra salamandra  \n",
       "59997                                          gyromitra  \n",
       "59998                                           envelope  \n",
       "59999                   night snake, Hypsiglena torquata  \n",
       "\n",
       "[60000 rows x 2 columns]"
      ]
     },
     "execution_count": 18,
     "metadata": {},
     "output_type": "execute_result"
    }
   ],
   "source": [
    "%%sql confusion <<\n",
    "\n",
    "WITH label_names AS (SELECT DISTINCT label, name FROM ds)\n",
    "\n",
    "SELECT ds.name as gt, label_names.name as resnet\n",
    "FROM ds, label_names\n",
    "WHERE ds.resnet.label=label_names.label"
   ]
  },
  {
   "cell_type": "code",
   "execution_count": 19,
   "id": "7faad1d3",
   "metadata": {},
   "outputs": [],
   "source": [
    "rs = confusion.reset_index().groupby(['gt', 'resnet']).count().reset_index().rename(columns={'index': 'count'})"
   ]
  },
  {
   "cell_type": "code",
   "execution_count": 20,
   "id": "02fe3576",
   "metadata": {},
   "outputs": [],
   "source": [
    "rs[\"pct\"] = rs.groupby(\"gt\", group_keys=False)[\"count\"].apply(lambda grp: grp / grp.sum())"
   ]
  },
  {
   "cell_type": "code",
   "execution_count": 22,
   "id": "8ba1f9da",
   "metadata": {},
   "outputs": [
    {
     "data": {
      "text/plain": [
       "<AxesSubplot: xlabel='gt', ylabel='resnet'>"
      ]
     },
     "execution_count": 22,
     "metadata": {},
     "output_type": "execute_result"
    },
    {
     "data": {
      "image/png": "[encoded data removed]",
      "text/plain": [
       "<Figure size 640x480 with 2 Axes>"
      ]
     },
     "metadata": {},
     "output_type": "display_data"
    }
   ],
   "source": [
    "import seaborn as sns\n",
    "\n",
    "sns.heatmap((rs[rs[\"gt\"] != rs[\"resnet\"]]\n",
    "             .sort_values(\"pct\", ascending=False).head(10)\n",
    "             .set_index([\"gt\", \"resnet\"])[\"count\"].unstack(\"gt\")))"
   ]
  },
  {
   "cell_type": "markdown",
   "id": "e27b4bcf",
   "metadata": {},
   "source": [
    "<div class=\"alert alert-block alert-info\"> \n",
    "    💡 INSIGHT: top confused classes are very similar, e.g., \"maillot\" vs \"maillot, tank suit\", \"laptop\" vs \"notebook\", \"missile\" vs \"projectile, missile\"       \n",
    "</div>"
   ]
  },
  {
   "cell_type": "markdown",
   "id": "0a076b94-9591-4d6e-9191-45c77894e42e",
   "metadata": {},
   "source": [
    "## Automatically Detecting Mislabels\n",
    "\n",
    "To find potential mislables, we first need to automately establish a baseline of what consider as correct labels.\n",
    "We establish the baseline via the agreements of the two pre-trained models inference results. That is,\n",
    "if the two models strongly agree with each other (i.e., same label and confience score is high), but the predict label is not what ground truth describes.\n",
    "\n",
    "Such logic can be easily expressed via SQL:"
   ]
  },
  {
   "cell_type": "code",
   "execution_count": null,
   "id": "089e4fcf",
   "metadata": {},
   "outputs": [],
   "source": [
    "task_type: classification\n",
    "ground_truth: {label: <>, bounding_box: <>}\n",
    "predictions: [\n",
    "    {model_name: <>, label: <>, score: <>, bounding_box: <>}\n",
    "    ...\n",
    "]"
   ]
  },
  {
   "cell_type": "code",
   "execution_count": 23,
   "id": "10054526-3359-46e2-975b-4ec2215174d3",
   "metadata": {},
   "outputs": [
    {
     "name": "stdout",
     "output_type": "stream",
     "text": [
      "Took 0.029463768005371094\n"
     ]
    },
    {
     "data": {
      "text/html": [
       "<div>\n",
       "<style scoped>\n",
       "    .dataframe tbody tr th:only-of-type {\n",
       "        vertical-align: middle;\n",
       "    }\n",
       "\n",
       "    .dataframe tbody tr th {\n",
       "        vertical-align: top;\n",
       "    }\n",
       "\n",
       "    .dataframe thead th {\n",
       "        text-align: right;\n",
       "    }\n",
       "</style>\n",
       "<table border=\"1\" class=\"dataframe\">\n",
       "  <thead>\n",
       "    <tr style=\"text-align: right;\">\n",
       "      <th></th>\n",
       "      <th>id</th>\n",
       "      <th>ground_truth</th>\n",
       "      <th>predict</th>\n",
       "      <th>score</th>\n",
       "    </tr>\n",
       "  </thead>\n",
       "  <tbody>\n",
       "    <tr>\n",
       "      <th>0</th>\n",
       "      <td>39549</td>\n",
       "      <td>cellular telephone, cellular phone, cellphone,...</td>\n",
       "      <td>mouse, computer mouse</td>\n",
       "      <td>0.992139</td>\n",
       "    </tr>\n",
       "    <tr>\n",
       "      <th>1</th>\n",
       "      <td>20118</td>\n",
       "      <td>holster</td>\n",
       "      <td>bulletproof vest</td>\n",
       "      <td>0.992024</td>\n",
       "    </tr>\n",
       "    <tr>\n",
       "      <th>2</th>\n",
       "      <td>13998</td>\n",
       "      <td>beaver</td>\n",
       "      <td>mongoose</td>\n",
       "      <td>0.987393</td>\n",
       "    </tr>\n",
       "    <tr>\n",
       "      <th>3</th>\n",
       "      <td>19986</td>\n",
       "      <td>ice cream, icecream</td>\n",
       "      <td>strawberry</td>\n",
       "      <td>0.984450</td>\n",
       "    </tr>\n",
       "    <tr>\n",
       "      <th>4</th>\n",
       "      <td>11193</td>\n",
       "      <td>cloak</td>\n",
       "      <td>sweatshirt</td>\n",
       "      <td>0.983655</td>\n",
       "    </tr>\n",
       "    <tr>\n",
       "      <th>5</th>\n",
       "      <td>1444</td>\n",
       "      <td>stretcher</td>\n",
       "      <td>ambulance</td>\n",
       "      <td>0.980116</td>\n",
       "    </tr>\n",
       "    <tr>\n",
       "      <th>6</th>\n",
       "      <td>711</td>\n",
       "      <td>harmonica, mouth organ, harp, mouth harp</td>\n",
       "      <td>ocarina, sweet potato</td>\n",
       "      <td>0.979464</td>\n",
       "    </tr>\n",
       "    <tr>\n",
       "      <th>7</th>\n",
       "      <td>2301</td>\n",
       "      <td>table lamp</td>\n",
       "      <td>lampshade, lamp shade</td>\n",
       "      <td>0.979402</td>\n",
       "    </tr>\n",
       "    <tr>\n",
       "      <th>8</th>\n",
       "      <td>23666</td>\n",
       "      <td>goose</td>\n",
       "      <td>book jacket, dust cover, dust jacket, dust wra...</td>\n",
       "      <td>0.978010</td>\n",
       "    </tr>\n",
       "    <tr>\n",
       "      <th>9</th>\n",
       "      <td>19973</td>\n",
       "      <td>ram, tup</td>\n",
       "      <td>bighorn, bighorn sheep, cimarron, Rocky Mounta...</td>\n",
       "      <td>0.977920</td>\n",
       "    </tr>\n",
       "    <tr>\n",
       "      <th>10</th>\n",
       "      <td>26089</td>\n",
       "      <td>plate rack</td>\n",
       "      <td>dishwasher, dish washer, dishwashing machine</td>\n",
       "      <td>0.976900</td>\n",
       "    </tr>\n",
       "    <tr>\n",
       "      <th>11</th>\n",
       "      <td>11301</td>\n",
       "      <td>ski mask</td>\n",
       "      <td>prison, prison house</td>\n",
       "      <td>0.975323</td>\n",
       "    </tr>\n",
       "    <tr>\n",
       "      <th>12</th>\n",
       "      <td>39165</td>\n",
       "      <td>sea anemone, anemone</td>\n",
       "      <td>coral reef</td>\n",
       "      <td>0.975014</td>\n",
       "    </tr>\n",
       "    <tr>\n",
       "      <th>13</th>\n",
       "      <td>28706</td>\n",
       "      <td>passenger car, coach, carriage</td>\n",
       "      <td>steam locomotive</td>\n",
       "      <td>0.974988</td>\n",
       "    </tr>\n",
       "    <tr>\n",
       "      <th>14</th>\n",
       "      <td>33488</td>\n",
       "      <td>chime, bell, gong</td>\n",
       "      <td>gong, tam-tam</td>\n",
       "      <td>0.973995</td>\n",
       "    </tr>\n",
       "    <tr>\n",
       "      <th>15</th>\n",
       "      <td>31259</td>\n",
       "      <td>fountain pen</td>\n",
       "      <td>ballpoint, ballpoint pen, ballpen, Biro</td>\n",
       "      <td>0.973646</td>\n",
       "    </tr>\n",
       "    <tr>\n",
       "      <th>16</th>\n",
       "      <td>30875</td>\n",
       "      <td>bell cote, bell cot</td>\n",
       "      <td>chime, bell, gong</td>\n",
       "      <td>0.973398</td>\n",
       "    </tr>\n",
       "    <tr>\n",
       "      <th>17</th>\n",
       "      <td>37987</td>\n",
       "      <td>backpack, back pack, knapsack, packsack, rucks...</td>\n",
       "      <td>mailbag, postbag</td>\n",
       "      <td>0.973327</td>\n",
       "    </tr>\n",
       "    <tr>\n",
       "      <th>18</th>\n",
       "      <td>38790</td>\n",
       "      <td>honeycomb</td>\n",
       "      <td>pillow</td>\n",
       "      <td>0.972539</td>\n",
       "    </tr>\n",
       "    <tr>\n",
       "      <th>19</th>\n",
       "      <td>19985</td>\n",
       "      <td>web site, website, internet site, site</td>\n",
       "      <td>tobacco shop, tobacconist shop, tobacconist</td>\n",
       "      <td>0.972108</td>\n",
       "    </tr>\n",
       "  </tbody>\n",
       "</table>\n",
       "</div>"
      ],
      "text/plain": [
       "       id                                       ground_truth  \\\n",
       "0   39549  cellular telephone, cellular phone, cellphone,...   \n",
       "1   20118                                            holster   \n",
       "2   13998                                             beaver   \n",
       "3   19986                                ice cream, icecream   \n",
       "4   11193                                              cloak   \n",
       "5    1444                                          stretcher   \n",
       "6     711           harmonica, mouth organ, harp, mouth harp   \n",
       "7    2301                                         table lamp   \n",
       "8   23666                                              goose   \n",
       "9   19973                                           ram, tup   \n",
       "10  26089                                         plate rack   \n",
       "11  11301                                           ski mask   \n",
       "12  39165                               sea anemone, anemone   \n",
       "13  28706                     passenger car, coach, carriage   \n",
       "14  33488                                  chime, bell, gong   \n",
       "15  31259                                       fountain pen   \n",
       "16  30875                                bell cote, bell cot   \n",
       "17  37987  backpack, back pack, knapsack, packsack, rucks...   \n",
       "18  38790                                          honeycomb   \n",
       "19  19985             web site, website, internet site, site   \n",
       "\n",
       "                                              predict     score  \n",
       "0                               mouse, computer mouse  0.992139  \n",
       "1                                    bulletproof vest  0.992024  \n",
       "2                                            mongoose  0.987393  \n",
       "3                                          strawberry  0.984450  \n",
       "4                                          sweatshirt  0.983655  \n",
       "5                                           ambulance  0.980116  \n",
       "6                               ocarina, sweet potato  0.979464  \n",
       "7                               lampshade, lamp shade  0.979402  \n",
       "8   book jacket, dust cover, dust jacket, dust wra...  0.978010  \n",
       "9   bighorn, bighorn sheep, cimarron, Rocky Mounta...  0.977920  \n",
       "10       dishwasher, dish washer, dishwashing machine  0.976900  \n",
       "11                               prison, prison house  0.975323  \n",
       "12                                         coral reef  0.975014  \n",
       "13                                   steam locomotive  0.974988  \n",
       "14                                      gong, tam-tam  0.973995  \n",
       "15            ballpoint, ballpoint pen, ballpen, Biro  0.973646  \n",
       "16                                  chime, bell, gong  0.973398  \n",
       "17                                   mailbag, postbag  0.973327  \n",
       "18                                             pillow  0.972539  \n",
       "19        tobacco shop, tobacconist shop, tobacconist  0.972108  "
      ]
     },
     "execution_count": 23,
     "metadata": {},
     "output_type": "execute_result"
    }
   ],
   "source": [
    "%%sql\n",
    "\n",
    "WITH label_names AS (SELECT DISTINCT label, name FROM ds)\n",
    "\n",
    "SELECT ds.id, ds.name AS ground_truth,\n",
    "  label_names.name as predict,\n",
    "  resnet.score as score\n",
    "FROM ds, label_names \n",
    "WHERE\n",
    "  split != 'test'\n",
    "  AND ds.label !=  resnet.label \n",
    "  AND resnet.label = vit.label\n",
    "  AND resnet.label = label_names.label\n",
    "ORDER BY resnet.score DESC\n",
    "LIMIT 20"
   ]
  },
  {
   "cell_type": "markdown",
   "id": "60bb92ef",
   "metadata": {},
   "source": [
    "<div class=\"alert alert-block alert-danger\"> \n",
    "    NEED IMAGE GRID TO WORK FOR EMBEDDED IMAGES\n",
    "</div>"
   ]
  },
  {
   "cell_type": "markdown",
   "id": "389bee41-6758-41ee-91c2-caab81e8e4ae",
   "metadata": {},
   "source": [
    "While `zucchini` can look similar to `cucumber`, it defintely worths to investigate why the models think `cowboy hat` as `cowboy boot`, and `beaker` as `ping-pong ball`."
   ]
  },
  {
   "cell_type": "markdown",
   "id": "632e7c3b",
   "metadata": {},
   "source": [
    "We can review the mislabels and send them to labelstudio"
   ]
  },
  {
   "cell_type": "markdown",
   "id": "826f317b",
   "metadata": {},
   "source": [
    "<div class=\"alert alert-block alert-danger\"> \n",
    "    ADD IN LabelStudio integration here\n",
    "</div>"
   ]
  },
  {
   "cell_type": "markdown",
   "id": "ca6c5fb3",
   "metadata": {},
   "source": [
    "Once labels are corrected, we can use Lance's native pytorch integration to retrain the model directly.\n",
    "For the sake of time here, we'll just show the data loader"
   ]
  },
  {
   "cell_type": "code",
   "execution_count": 34,
   "id": "ca1a515b",
   "metadata": {},
   "outputs": [
    {
     "name": "stdout",
     "output_type": "stream",
     "text": [
      "[tensor(1), tensor(726), <PIL.Image.Image image mode=RGB size=817x363 at 0x7FD867FD51E0>]\n"
     ]
    }
   ],
   "source": [
    "dataset = Dataset(\n",
    "    uri,  # lance uri\n",
    "    columns=[\"id\", \"label\", \"image\"],  # only read certain columns\n",
    "    batch_size=1\n",
    ")\n",
    "\n",
    "for batch in dataset:\n",
    "    print(batch)\n",
    "    break"
   ]
  },
  {
   "cell_type": "code",
   "execution_count": null,
   "id": "f82700b0",
   "metadata": {},
   "outputs": [],
   "source": []
  },
  {
   "cell_type": "markdown",
   "id": "4c3ce794-5cbe-4a46-898f-f7be84cd93aa",
   "metadata": {},
   "source": [
    "## Active Learning in Lance\n",
    "\n",
    "With Lance and DuckDB, it is easy to build active learning loop as well.\n",
    "\n",
    "One typical approach of Active Learning is finding `Lowest Margin of Confidence`. \n",
    "\n",
    "This query finds the examples where a model (*ResNet* in this case) is less confident between the top two candidates."
   ]
  },
  {
   "cell_type": "code",
   "execution_count": 31,
   "id": "d9ad7b95-af4d-4cea-af23-c387a79c3151",
   "metadata": {},
   "outputs": [
    {
     "name": "stdout",
     "output_type": "stream",
     "text": [
      "Took 0.06416940689086914\n"
     ]
    },
    {
     "data": {
      "text/html": [
       "<div>\n",
       "<style scoped>\n",
       "    .dataframe tbody tr th:only-of-type {\n",
       "        vertical-align: middle;\n",
       "    }\n",
       "\n",
       "    .dataframe tbody tr th {\n",
       "        vertical-align: top;\n",
       "    }\n",
       "\n",
       "    .dataframe thead th {\n",
       "        text-align: right;\n",
       "    }\n",
       "</style>\n",
       "<table border=\"1\" class=\"dataframe\">\n",
       "  <thead>\n",
       "    <tr style=\"text-align: right;\">\n",
       "      <th></th>\n",
       "      <th>gt</th>\n",
       "      <th>best_guess</th>\n",
       "      <th>second_guess</th>\n",
       "      <th>margin_of_confidence</th>\n",
       "    </tr>\n",
       "  </thead>\n",
       "  <tbody>\n",
       "    <tr>\n",
       "      <th>0</th>\n",
       "      <td>power drill</td>\n",
       "      <td>plane, carpenter's plane, woodworking plane</td>\n",
       "      <td>sewing machine</td>\n",
       "      <td>0.000012</td>\n",
       "    </tr>\n",
       "    <tr>\n",
       "      <th>1</th>\n",
       "      <td>shower curtain</td>\n",
       "      <td>four-poster</td>\n",
       "      <td>shower curtain</td>\n",
       "      <td>0.000035</td>\n",
       "    </tr>\n",
       "    <tr>\n",
       "      <th>2</th>\n",
       "      <td>maillot</td>\n",
       "      <td>maillot, tank suit</td>\n",
       "      <td>bikini, two-piece</td>\n",
       "      <td>0.000058</td>\n",
       "    </tr>\n",
       "    <tr>\n",
       "      <th>3</th>\n",
       "      <td>coral reef</td>\n",
       "      <td>coral reef</td>\n",
       "      <td>sea anemone, anemone</td>\n",
       "      <td>0.000097</td>\n",
       "    </tr>\n",
       "    <tr>\n",
       "      <th>4</th>\n",
       "      <td>Airedale, Airedale terrier</td>\n",
       "      <td>borzoi, Russian wolfhound</td>\n",
       "      <td>wire-haired fox terrier</td>\n",
       "      <td>0.000102</td>\n",
       "    </tr>\n",
       "    <tr>\n",
       "      <th>5</th>\n",
       "      <td>bakery, bakeshop, bakehouse</td>\n",
       "      <td>bakery, bakeshop, bakehouse</td>\n",
       "      <td>cup</td>\n",
       "      <td>0.000105</td>\n",
       "    </tr>\n",
       "    <tr>\n",
       "      <th>6</th>\n",
       "      <td>horned viper, cerastes, sand viper, horned asp...</td>\n",
       "      <td>sidewinder, horned rattlesnake, Crotalus cerastes</td>\n",
       "      <td>horned viper, cerastes, sand viper, horned asp...</td>\n",
       "      <td>0.000106</td>\n",
       "    </tr>\n",
       "    <tr>\n",
       "      <th>7</th>\n",
       "      <td>missile</td>\n",
       "      <td>missile</td>\n",
       "      <td>projectile, missile</td>\n",
       "      <td>0.000135</td>\n",
       "    </tr>\n",
       "    <tr>\n",
       "      <th>8</th>\n",
       "      <td>wine bottle</td>\n",
       "      <td>beer bottle</td>\n",
       "      <td>wine bottle</td>\n",
       "      <td>0.000143</td>\n",
       "    </tr>\n",
       "    <tr>\n",
       "      <th>9</th>\n",
       "      <td>bolo tie, bolo, bola tie, bola</td>\n",
       "      <td>cash machine, cash dispenser, automated teller...</td>\n",
       "      <td>photocopier</td>\n",
       "      <td>0.000161</td>\n",
       "    </tr>\n",
       "    <tr>\n",
       "      <th>10</th>\n",
       "      <td>stole</td>\n",
       "      <td>poncho</td>\n",
       "      <td>stole</td>\n",
       "      <td>0.000179</td>\n",
       "    </tr>\n",
       "    <tr>\n",
       "      <th>11</th>\n",
       "      <td>gown</td>\n",
       "      <td>pajama, pyjama, pj's, jammies</td>\n",
       "      <td>gown</td>\n",
       "      <td>0.000203</td>\n",
       "    </tr>\n",
       "    <tr>\n",
       "      <th>12</th>\n",
       "      <td>broom</td>\n",
       "      <td>overskirt</td>\n",
       "      <td>hoopskirt, crinoline</td>\n",
       "      <td>0.000258</td>\n",
       "    </tr>\n",
       "    <tr>\n",
       "      <th>13</th>\n",
       "      <td>library</td>\n",
       "      <td>bookshop, bookstore, bookstall</td>\n",
       "      <td>library</td>\n",
       "      <td>0.000263</td>\n",
       "    </tr>\n",
       "    <tr>\n",
       "      <th>14</th>\n",
       "      <td>mailbox, letter box</td>\n",
       "      <td>tape player</td>\n",
       "      <td>cassette player</td>\n",
       "      <td>0.000275</td>\n",
       "    </tr>\n",
       "    <tr>\n",
       "      <th>15</th>\n",
       "      <td>toilet tissue, toilet paper, bathroom tissue</td>\n",
       "      <td>toilet tissue, toilet paper, bathroom tissue</td>\n",
       "      <td>paper towel</td>\n",
       "      <td>0.000289</td>\n",
       "    </tr>\n",
       "    <tr>\n",
       "      <th>16</th>\n",
       "      <td>polecat, fitch, foulmart, foumart, Mustela put...</td>\n",
       "      <td>black-footed ferret, ferret, Mustela nigripes</td>\n",
       "      <td>polecat, fitch, foulmart, foumart, Mustela put...</td>\n",
       "      <td>0.000303</td>\n",
       "    </tr>\n",
       "    <tr>\n",
       "      <th>17</th>\n",
       "      <td>tank, army tank, armored combat vehicle, armou...</td>\n",
       "      <td>tank, army tank, armored combat vehicle, armou...</td>\n",
       "      <td>amphibian, amphibious vehicle</td>\n",
       "      <td>0.000306</td>\n",
       "    </tr>\n",
       "    <tr>\n",
       "      <th>18</th>\n",
       "      <td>desk</td>\n",
       "      <td>screen, CRT screen</td>\n",
       "      <td>monitor</td>\n",
       "      <td>0.000316</td>\n",
       "    </tr>\n",
       "    <tr>\n",
       "      <th>19</th>\n",
       "      <td>tiger cat</td>\n",
       "      <td>tiger, Panthera tigris</td>\n",
       "      <td>tiger cat</td>\n",
       "      <td>0.000336</td>\n",
       "    </tr>\n",
       "  </tbody>\n",
       "</table>\n",
       "</div>"
      ],
      "text/plain": [
       "                                                   gt  \\\n",
       "0                                         power drill   \n",
       "1                                      shower curtain   \n",
       "2                                             maillot   \n",
       "3                                          coral reef   \n",
       "4                          Airedale, Airedale terrier   \n",
       "5                         bakery, bakeshop, bakehouse   \n",
       "6   horned viper, cerastes, sand viper, horned asp...   \n",
       "7                                             missile   \n",
       "8                                         wine bottle   \n",
       "9                      bolo tie, bolo, bola tie, bola   \n",
       "10                                              stole   \n",
       "11                                               gown   \n",
       "12                                              broom   \n",
       "13                                            library   \n",
       "14                                mailbox, letter box   \n",
       "15       toilet tissue, toilet paper, bathroom tissue   \n",
       "16  polecat, fitch, foulmart, foumart, Mustela put...   \n",
       "17  tank, army tank, armored combat vehicle, armou...   \n",
       "18                                               desk   \n",
       "19                                          tiger cat   \n",
       "\n",
       "                                           best_guess  \\\n",
       "0         plane, carpenter's plane, woodworking plane   \n",
       "1                                         four-poster   \n",
       "2                                  maillot, tank suit   \n",
       "3                                          coral reef   \n",
       "4                           borzoi, Russian wolfhound   \n",
       "5                         bakery, bakeshop, bakehouse   \n",
       "6   sidewinder, horned rattlesnake, Crotalus cerastes   \n",
       "7                                             missile   \n",
       "8                                         beer bottle   \n",
       "9   cash machine, cash dispenser, automated teller...   \n",
       "10                                             poncho   \n",
       "11                      pajama, pyjama, pj's, jammies   \n",
       "12                                          overskirt   \n",
       "13                     bookshop, bookstore, bookstall   \n",
       "14                                        tape player   \n",
       "15       toilet tissue, toilet paper, bathroom tissue   \n",
       "16      black-footed ferret, ferret, Mustela nigripes   \n",
       "17  tank, army tank, armored combat vehicle, armou...   \n",
       "18                                 screen, CRT screen   \n",
       "19                             tiger, Panthera tigris   \n",
       "\n",
       "                                         second_guess  margin_of_confidence  \n",
       "0                                      sewing machine              0.000012  \n",
       "1                                      shower curtain              0.000035  \n",
       "2                                   bikini, two-piece              0.000058  \n",
       "3                                sea anemone, anemone              0.000097  \n",
       "4                             wire-haired fox terrier              0.000102  \n",
       "5                                                 cup              0.000105  \n",
       "6   horned viper, cerastes, sand viper, horned asp...              0.000106  \n",
       "7                                 projectile, missile              0.000135  \n",
       "8                                         wine bottle              0.000143  \n",
       "9                                         photocopier              0.000161  \n",
       "10                                              stole              0.000179  \n",
       "11                                               gown              0.000203  \n",
       "12                               hoopskirt, crinoline              0.000258  \n",
       "13                                            library              0.000263  \n",
       "14                                    cassette player              0.000275  \n",
       "15                                        paper towel              0.000289  \n",
       "16  polecat, fitch, foulmart, foumart, Mustela put...              0.000303  \n",
       "17                      amphibian, amphibious vehicle              0.000306  \n",
       "18                                            monitor              0.000316  \n",
       "19                                          tiger cat              0.000336  "
      ]
     },
     "execution_count": 31,
     "metadata": {},
     "output_type": "execute_result"
    }
   ],
   "source": [
    "%%sql\n",
    "\n",
    "WITH label_names AS (SELECT DISTINCT label, name FROM ds)\n",
    "\n",
    "SELECT \n",
    "    ds.name as gt,\n",
    "    n1.name as best_guess,\n",
    "    n2.name as second_guess,\n",
    "    resnet.score - resnet.second_score AS margin_of_confidence\n",
    "FROM ds, label_names as n1, label_names as n2\n",
    "WHERE \n",
    "    split != 'test'\n",
    "    AND n1.label = resnet.label\n",
    "    AND n2.label = resnet.second_label\n",
    "ORDER BY margin_of_confidence\n",
    "LIMIT 20"
   ]
  },
  {
   "cell_type": "markdown",
   "id": "1015fcf8-5b06-46de-98f3-e3a11c0be061",
   "metadata": {},
   "source": [
    "Visualizing the results tells us we could improve the model in the following ways:\n",
    "\n",
    "1. Combine ambiguous categories if they don't matter\n",
    "2. Adding more distinct and high quality training examples in each of these categories. \n",
    "3. Improve feature extraction and the feature residual in the model architecture design.\n",
    "4. Use multi-models to improve the accuracy in ambiguous case."
   ]
  },
  {
   "cell_type": "markdown",
   "id": "51a78d72-131c-4a70-b1c0-9a855c92d9bb",
   "metadata": {},
   "source": [
    "## Lance makes it super-simple to create a Data-Driven ML development loop\n",
    "\n",
    "- Most of the insights here runs in under 100ms, which allows Lance to support a truly interactive ML development loop without external services or heavy infrastructure.\n",
    "\n",
    "- You don't need to pay LabelBox/ScaleAI for all the data points you don't need to label. If you use LabelStudio you don't need to pay them at all.\n",
    "\n",
    "- Lance makes it easy to create custom dashboards and views of your data to get to insights quicker"
   ]
  },
  {
   "cell_type": "code",
   "execution_count": null,
   "id": "2fee4bca-67c5-4c12-aac2-95cafbb0e7d4",
   "metadata": {},
   "outputs": [],
   "source": []
  }
 ],
 "metadata": {
  "kernelspec": {
   "display_name": "Python 3 (ipykernel)",
   "language": "python",
   "name": "python3"
  },
  "language_info": {
   "codemirror_mode": {
    "name": "ipython",
    "version": 3
   },
   "file_extension": ".py",
   "mimetype": "text/x-python",
   "name": "python",
   "nbconvert_exporter": "python",
   "pygments_lexer": "ipython3",
   "version": "3.10.4"
  }
 },
 "nbformat": 4,
 "nbformat_minor": 5
}
