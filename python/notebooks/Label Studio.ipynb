{
 "cells": [
  {
   "cell_type": "markdown",
   "id": "3493307e",
   "metadata": {},
   "source": [
    "Prep local dataset (so we can merge into it later)"
   ]
  },
  {
   "cell_type": "code",
   "execution_count": null,
   "id": "e3493e63",
   "metadata": {},
   "outputs": [],
   "source": [
    "!rm -rf /tmp/oxford_pet.lance\n",
    "\n",
    "import lance\n",
    "uri = \"s3://eto-public/datasets/oxford_pet/oxford_pet.lance\"\n",
    "ds = lance.dataset(uri)\n",
    "table = ds.to_table()\n",
    "len(table)\n",
    "\n",
    "lance.write_dataset(table, '/tmp/oxford_pet.lance')"
   ]
  },
  {
   "cell_type": "markdown",
   "id": "b6ba70db",
   "metadata": {},
   "source": [
    "Read out the dataset"
   ]
  },
  {
   "cell_type": "code",
   "execution_count": null,
   "id": "cd072027",
   "metadata": {},
   "outputs": [],
   "source": [
    "import lance\n",
    "uri = \"/tmp/oxford_pet.lance\"\n",
    "ds = lance.dataset(uri)"
   ]
  },
  {
   "cell_type": "markdown",
   "id": "8e04c070",
   "metadata": {},
   "source": [
    "Say we find 10 images that have bad labels"
   ]
  },
  {
   "cell_type": "code",
   "execution_count": null,
   "id": "f3aaf8f5",
   "metadata": {},
   "outputs": [],
   "source": [
    "df = ds.head(10, columns=[\"external_image\", \"class\", \"_pk\"]).to_pandas()\n",
    "df['external_image'] = df.external_image.apply(lambda img: img).str.replace('s3://eto-public', 'https://eto-public.s3.us-west-2.amazonaws.com')\n",
    "df"
   ]
  },
  {
   "cell_type": "markdown",
   "id": "92cbaa46",
   "metadata": {},
   "source": [
    "Create new labelstudio tasks to correct bad labels\n",
    "\n",
    "(For now we assume the project is already created)"
   ]
  },
  {
   "cell_type": "code",
   "execution_count": null,
   "id": "d2a9c04e",
   "metadata": {},
   "outputs": [],
   "source": [
    "from labelstudio import LanceLabelStudioClient as Client\n",
    "\n",
    "ls = Client.create()\n",
    "p = ls.get_project(\"imagenet\")\n",
    "\n",
    "task_ids = p.add_tasks(df, image_col=\"external_image\", pk_col=\"_pk\")"
   ]
  },
  {
   "cell_type": "code",
   "execution_count": null,
   "id": "03929da9",
   "metadata": {},
   "outputs": [],
   "source": [
    "task_ids"
   ]
  },
  {
   "cell_type": "markdown",
   "id": "6ee8781e",
   "metadata": {},
   "source": [
    "Let's pop over to the LabelStudio UI and label these\n",
    "\n",
    "http://localhost:8080/projects/3/data?tab=11"
   ]
  },
  {
   "cell_type": "markdown",
   "id": "09b0d75c",
   "metadata": {},
   "source": [
    "Once these they're done, we export them from LabelStudio and merge these into the original dataset"
   ]
  },
  {
   "cell_type": "code",
   "execution_count": null,
   "id": "e3e29cc9",
   "metadata": {},
   "outputs": [],
   "source": [
    "import pyarrow as pa\n",
    "label_df = p.get_annotations(\"new_label\")\n",
    "\n",
    "\n",
    "schema = pa.schema([pa.field('id', ds.schema.field(\"_pk\").type),\n",
    "                    pa.field('new_label', pa.string())])\n",
    "tbl = pa.Table.from_pandas(label_df, schema)\n",
    "\n",
    "ds.merge(tbl, left_on='_pk', right_on='id')\n",
    "\n",
    "lance.dataset(uri).schema.names"
   ]
  },
  {
   "cell_type": "markdown",
   "id": "21b32055",
   "metadata": {},
   "source": [
    "BUG: Lance dataset merge doesn't have proper NA handling"
   ]
  },
  {
   "cell_type": "code",
   "execution_count": null,
   "id": "8d3d6770",
   "metadata": {},
   "outputs": [],
   "source": [
    "df = ds.to_table(columns=[\"new_label\", \"external_image\", \"class\", \"_pk\"]).to_pandas()\n",
    "df[df.new_label != '']"
   ]
  },
  {
   "cell_type": "markdown",
   "id": "ba0f025d",
   "metadata": {},
   "source": [
    "Integration notes:\n",
    "\n",
    "1. LabelStudio has both \"pre-annotations\" and \"model generated labels\". Not sure what's the difference\n",
    "2. Current integration assumes single classification problem\n",
    "3. Merging a string column in generates empty string rather than string NA for join key misses\n",
    "4. We lose the dtype during JSON conversion so need some extra processing to match join key dtype\n",
    "5. "
   ]
  },
  {
   "cell_type": "code",
   "execution_count": null,
   "id": "7fa1adf8",
   "metadata": {},
   "outputs": [],
   "source": []
  }
 ],
 "metadata": {
  "kernelspec": {
   "display_name": "Python 3 (ipykernel)",
   "language": "python",
   "name": "python3"
  },
  "language_info": {
   "codemirror_mode": {
    "name": "ipython",
    "version": 3
   },
   "file_extension": ".py",
   "mimetype": "text/x-python",
   "name": "python",
   "nbconvert_exporter": "python",
   "pygments_lexer": "ipython3",
   "version": "3.10.8"
  }
 },
 "nbformat": 4,
 "nbformat_minor": 5
}
